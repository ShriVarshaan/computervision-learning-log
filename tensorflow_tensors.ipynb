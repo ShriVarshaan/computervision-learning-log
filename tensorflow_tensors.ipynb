{
  "nbformat": 4,
  "nbformat_minor": 0,
  "metadata": {
    "colab": {
      "provenance": [],
      "authorship_tag": "ABX9TyOpvvXDH6CxqnaDSv2xHGtY",
      "include_colab_link": true
    },
    "kernelspec": {
      "name": "python3",
      "display_name": "Python 3"
    },
    "language_info": {
      "name": "python"
    }
  },
  "cells": [
    {
      "cell_type": "markdown",
      "metadata": {
        "id": "view-in-github",
        "colab_type": "text"
      },
      "source": [
        "<a href=\"https://colab.research.google.com/github/ShriVarshaan/computervision-learning-log/blob/main/tensorflow_tensors.ipynb\" target=\"_parent\"><img src=\"https://colab.research.google.com/assets/colab-badge.svg\" alt=\"Open In Colab\"/></a>"
      ]
    },
    {
      "cell_type": "code",
      "execution_count": 1,
      "metadata": {
        "id": "yTh_4cKcjl5P"
      },
      "outputs": [],
      "source": [
        "import tensorflow as tf"
      ]
    },
    {
      "cell_type": "code",
      "source": [
        "#Creating a 0D tensor\n",
        "tensor_zero_d = tf.constant(4)"
      ],
      "metadata": {
        "id": "7HlSR5lQkNKG"
      },
      "execution_count": 3,
      "outputs": []
    },
    {
      "cell_type": "code",
      "source": [
        "print(tensor_zero_d)"
      ],
      "metadata": {
        "colab": {
          "base_uri": "https://localhost:8080/"
        },
        "id": "cb1QvwIPkTia",
        "outputId": "9af12c01-d282-4fff-bf40-3aa522994b10"
      },
      "execution_count": 5,
      "outputs": [
        {
          "output_type": "stream",
          "name": "stdout",
          "text": [
            "tf.Tensor(4, shape=(), dtype=int32)\n"
          ]
        }
      ]
    },
    {
      "cell_type": "code",
      "source": [
        "tensor_one_d = tf.constant([2,0,-3])\n",
        "print(tensor_one_d)"
      ],
      "metadata": {
        "colab": {
          "base_uri": "https://localhost:8080/"
        },
        "id": "tWoSKnq1kZVO",
        "outputId": "4dbd74b3-aa94-43d8-c3eb-4c3ea865af02"
      },
      "execution_count": 6,
      "outputs": [
        {
          "output_type": "stream",
          "name": "stdout",
          "text": [
            "tf.Tensor([ 2  0 -3], shape=(3,), dtype=int32)\n"
          ]
        }
      ]
    },
    {
      "cell_type": "code",
      "source": [
        "tensor_two_d = tf.constant([[2,0,-3], [1,2,0]])\n",
        "print(tensor_two_d)"
      ],
      "metadata": {
        "colab": {
          "base_uri": "https://localhost:8080/"
        },
        "id": "uIrF0iiwklk0",
        "outputId": "c98d97d2-2666-4845-9a07-ac326accd179"
      },
      "execution_count": 7,
      "outputs": [
        {
          "output_type": "stream",
          "name": "stdout",
          "text": [
            "tf.Tensor(\n",
            "[[ 2  0 -3]\n",
            " [ 1  2  0]], shape=(2, 3), dtype=int32)\n"
          ]
        }
      ]
    },
    {
      "cell_type": "code",
      "source": [
        "tensor_three_d = tf.constant([\n",
        "    [[1,2,0],\n",
        "    [3,5,1]],\n",
        "\n",
        "    [[10,2,0],\n",
        "    [1,0,2]],\n",
        "\n",
        "    [[5,8,0],\n",
        "    [2,7,0]],\n",
        "\n",
        "    [[2,1,9],\n",
        "    [4,-3,32]]\n",
        "], dtype = tf.float32)\n",
        "\n",
        "print(tensor_three_d)"
      ],
      "metadata": {
        "colab": {
          "base_uri": "https://localhost:8080/"
        },
        "id": "2rIvRN6ak67Y",
        "outputId": "8773e3ce-24b2-4fe4-f457-2e9c6c958864"
      },
      "execution_count": 19,
      "outputs": [
        {
          "output_type": "stream",
          "name": "stdout",
          "text": [
            "tf.Tensor(\n",
            "[[[ 1.  2.  0.]\n",
            "  [ 3.  5.  1.]]\n",
            "\n",
            " [[10.  2.  0.]\n",
            "  [ 1.  0.  2.]]\n",
            "\n",
            " [[ 5.  8.  0.]\n",
            "  [ 2.  7.  0.]]\n",
            "\n",
            " [[ 2.  1.  9.]\n",
            "  [ 4. -3. 32.]]], shape=(4, 2, 3), dtype=float32)\n"
          ]
        }
      ]
    },
    {
      "cell_type": "code",
      "source": [
        "print(tensor_three_d.dtype)\n",
        "print(tensor_three_d.ndim) #The rank of a tensor is the same as ndim, not the same as the rank of matrix\n",
        "print(tensor_three_d.shape)"
      ],
      "metadata": {
        "colab": {
          "base_uri": "https://localhost:8080/"
        },
        "id": "w_Ic9UMUlph6",
        "outputId": "75c618a3-1e34-4e7a-9ff4-5a53f1ea0b29"
      },
      "execution_count": 14,
      "outputs": [
        {
          "output_type": "stream",
          "name": "stdout",
          "text": [
            "<dtype: 'int32'>\n",
            "3\n",
            "(4, 2, 3)\n"
          ]
        }
      ]
    },
    {
      "cell_type": "code",
      "source": [
        "print(tf.cast(tensor_three_d, dtype=tf.int64)) #Doesn't change the original tensor, creates a copy instead"
      ],
      "metadata": {
        "colab": {
          "base_uri": "https://localhost:8080/"
        },
        "id": "uMUTn4WImYxd",
        "outputId": "07bbc881-3a33-4b09-fba3-bfc935f8abbc"
      },
      "execution_count": 21,
      "outputs": [
        {
          "output_type": "stream",
          "name": "stdout",
          "text": [
            "tf.Tensor(\n",
            "[[[ 1  2  0]\n",
            "  [ 3  5  1]]\n",
            "\n",
            " [[10  2  0]\n",
            "  [ 1  0  2]]\n",
            "\n",
            " [[ 5  8  0]\n",
            "  [ 2  7  0]]\n",
            "\n",
            " [[ 2  1  9]\n",
            "  [ 4 -3 32]]], shape=(4, 2, 3), dtype=int64)\n"
          ]
        }
      ]
    },
    {
      "cell_type": "code",
      "source": [
        "print(tensor_three_d)"
      ],
      "metadata": {
        "colab": {
          "base_uri": "https://localhost:8080/"
        },
        "id": "9LfqdkaRs-m8",
        "outputId": "ad162b78-7092-49e3-9f8c-4c563b7a51fb"
      },
      "execution_count": 22,
      "outputs": [
        {
          "output_type": "stream",
          "name": "stdout",
          "text": [
            "tf.Tensor(\n",
            "[[[ 1.  2.  0.]\n",
            "  [ 3.  5.  1.]]\n",
            "\n",
            " [[10.  2.  0.]\n",
            "  [ 1.  0.  2.]]\n",
            "\n",
            " [[ 5.  8.  0.]\n",
            "  [ 2.  7.  0.]]\n",
            "\n",
            " [[ 2.  1.  9.]\n",
            "  [ 4. -3. 32.]]], shape=(4, 2, 3), dtype=float32)\n"
          ]
        }
      ]
    },
    {
      "cell_type": "code",
      "source": [
        "print(tf.cast(tensor_three_d, dtype=tf.bool)) #Changes all the 0's to a False and everything else is true"
      ],
      "metadata": {
        "colab": {
          "base_uri": "https://localhost:8080/"
        },
        "id": "qQIDTqsFtDhS",
        "outputId": "e30d5288-b293-4213-8782-a68ba81120b2"
      },
      "execution_count": 23,
      "outputs": [
        {
          "output_type": "stream",
          "name": "stdout",
          "text": [
            "tf.Tensor(\n",
            "[[[ True  True False]\n",
            "  [ True  True  True]]\n",
            "\n",
            " [[ True  True False]\n",
            "  [ True False  True]]\n",
            "\n",
            " [[ True  True False]\n",
            "  [ True  True False]]\n",
            "\n",
            " [[ True  True  True]\n",
            "  [ True  True  True]]], shape=(4, 2, 3), dtype=bool)\n"
          ]
        }
      ]
    },
    {
      "cell_type": "code",
      "source": [
        "tensor_bool = tf.constant([True, True, False])\n",
        "print(tensor_bool)"
      ],
      "metadata": {
        "colab": {
          "base_uri": "https://localhost:8080/"
        },
        "id": "P5trVuRHtNiB",
        "outputId": "1712007d-a95d-4fdd-b00e-31729ac73ed6"
      },
      "execution_count": 24,
      "outputs": [
        {
          "output_type": "stream",
          "name": "stdout",
          "text": [
            "tf.Tensor([ True  True False], shape=(3,), dtype=bool)\n"
          ]
        }
      ]
    },
    {
      "cell_type": "code",
      "source": [
        "print(tf.cast(tensor_bool, dtype=tf.int32)) #Changes the true to 1 and false to 0"
      ],
      "metadata": {
        "colab": {
          "base_uri": "https://localhost:8080/"
        },
        "id": "B2LFq0E4tjBU",
        "outputId": "b1442aa4-ef12-45d8-a549-98b439c386fb"
      },
      "execution_count": 25,
      "outputs": [
        {
          "output_type": "stream",
          "name": "stdout",
          "text": [
            "tf.Tensor([1 1 0], shape=(3,), dtype=int32)\n"
          ]
        }
      ]
    },
    {
      "cell_type": "code",
      "source": [
        "tensor_string = tf.constant([\"hello\", \"world\", \"hi\"])\n",
        "print(tensor_string)"
      ],
      "metadata": {
        "colab": {
          "base_uri": "https://localhost:8080/"
        },
        "id": "lFtg6y_ttnve",
        "outputId": "8f95dcf0-d367-4b29-9836-e4fd9f2cc1aa"
      },
      "execution_count": 26,
      "outputs": [
        {
          "output_type": "stream",
          "name": "stdout",
          "text": [
            "tf.Tensor([b'hello' b'world' b'hi'], shape=(3,), dtype=string)\n"
          ]
        }
      ]
    },
    {
      "cell_type": "code",
      "source": [
        "print(tf.cast(tensor_string, dtype=tf.int32))"
      ],
      "metadata": {
        "colab": {
          "base_uri": "https://localhost:8080/",
          "height": 287
        },
        "id": "oHPFYM_ctyra",
        "outputId": "2217d820-27df-4cef-a60f-054714d02c95"
      },
      "execution_count": 28,
      "outputs": [
        {
          "output_type": "error",
          "ename": "UnimplementedError",
          "evalue": "{{function_node __wrapped__Cast_device_/job:localhost/replica:0/task:0/device:CPU:0}} Cast string to int32 is not supported [Op:Cast] name: ",
          "traceback": [
            "\u001b[0;31m---------------------------------------------------------------------------\u001b[0m",
            "\u001b[0;31mUnimplementedError\u001b[0m                        Traceback (most recent call last)",
            "\u001b[0;32m/tmp/ipython-input-28-1196356254.py\u001b[0m in \u001b[0;36m<cell line: 0>\u001b[0;34m()\u001b[0m\n\u001b[0;32m----> 1\u001b[0;31m \u001b[0mprint\u001b[0m\u001b[0;34m(\u001b[0m\u001b[0mtf\u001b[0m\u001b[0;34m.\u001b[0m\u001b[0mcast\u001b[0m\u001b[0;34m(\u001b[0m\u001b[0mtensor_string\u001b[0m\u001b[0;34m,\u001b[0m \u001b[0mdtype\u001b[0m\u001b[0;34m=\u001b[0m\u001b[0mtf\u001b[0m\u001b[0;34m.\u001b[0m\u001b[0mint32\u001b[0m\u001b[0;34m)\u001b[0m\u001b[0;34m)\u001b[0m\u001b[0;34m\u001b[0m\u001b[0;34m\u001b[0m\u001b[0m\n\u001b[0m",
            "\u001b[0;32m/usr/local/lib/python3.11/dist-packages/tensorflow/python/util/traceback_utils.py\u001b[0m in \u001b[0;36merror_handler\u001b[0;34m(*args, **kwargs)\u001b[0m\n\u001b[1;32m    151\u001b[0m     \u001b[0;32mexcept\u001b[0m \u001b[0mException\u001b[0m \u001b[0;32mas\u001b[0m \u001b[0me\u001b[0m\u001b[0;34m:\u001b[0m\u001b[0;34m\u001b[0m\u001b[0;34m\u001b[0m\u001b[0m\n\u001b[1;32m    152\u001b[0m       \u001b[0mfiltered_tb\u001b[0m \u001b[0;34m=\u001b[0m \u001b[0m_process_traceback_frames\u001b[0m\u001b[0;34m(\u001b[0m\u001b[0me\u001b[0m\u001b[0;34m.\u001b[0m\u001b[0m__traceback__\u001b[0m\u001b[0;34m)\u001b[0m\u001b[0;34m\u001b[0m\u001b[0;34m\u001b[0m\u001b[0m\n\u001b[0;32m--> 153\u001b[0;31m       \u001b[0;32mraise\u001b[0m \u001b[0me\u001b[0m\u001b[0;34m.\u001b[0m\u001b[0mwith_traceback\u001b[0m\u001b[0;34m(\u001b[0m\u001b[0mfiltered_tb\u001b[0m\u001b[0;34m)\u001b[0m \u001b[0;32mfrom\u001b[0m \u001b[0;32mNone\u001b[0m\u001b[0;34m\u001b[0m\u001b[0;34m\u001b[0m\u001b[0m\n\u001b[0m\u001b[1;32m    154\u001b[0m     \u001b[0;32mfinally\u001b[0m\u001b[0;34m:\u001b[0m\u001b[0;34m\u001b[0m\u001b[0;34m\u001b[0m\u001b[0m\n\u001b[1;32m    155\u001b[0m       \u001b[0;32mdel\u001b[0m \u001b[0mfiltered_tb\u001b[0m\u001b[0;34m\u001b[0m\u001b[0;34m\u001b[0m\u001b[0m\n",
            "\u001b[0;32m/usr/local/lib/python3.11/dist-packages/tensorflow/python/framework/ops.py\u001b[0m in \u001b[0;36mraise_from_not_ok_status\u001b[0;34m(e, name)\u001b[0m\n\u001b[1;32m   6000\u001b[0m \u001b[0;32mdef\u001b[0m \u001b[0mraise_from_not_ok_status\u001b[0m\u001b[0;34m(\u001b[0m\u001b[0me\u001b[0m\u001b[0;34m,\u001b[0m \u001b[0mname\u001b[0m\u001b[0;34m)\u001b[0m \u001b[0;34m->\u001b[0m \u001b[0mNoReturn\u001b[0m\u001b[0;34m:\u001b[0m\u001b[0;34m\u001b[0m\u001b[0;34m\u001b[0m\u001b[0m\n\u001b[1;32m   6001\u001b[0m   \u001b[0me\u001b[0m\u001b[0;34m.\u001b[0m\u001b[0mmessage\u001b[0m \u001b[0;34m+=\u001b[0m \u001b[0;34m(\u001b[0m\u001b[0;34m\" name: \"\u001b[0m \u001b[0;34m+\u001b[0m \u001b[0mstr\u001b[0m\u001b[0;34m(\u001b[0m\u001b[0mname\u001b[0m \u001b[0;32mif\u001b[0m \u001b[0mname\u001b[0m \u001b[0;32mis\u001b[0m \u001b[0;32mnot\u001b[0m \u001b[0;32mNone\u001b[0m \u001b[0;32melse\u001b[0m \u001b[0;34m\"\"\u001b[0m\u001b[0;34m)\u001b[0m\u001b[0;34m)\u001b[0m\u001b[0;34m\u001b[0m\u001b[0;34m\u001b[0m\u001b[0m\n\u001b[0;32m-> 6002\u001b[0;31m   \u001b[0;32mraise\u001b[0m \u001b[0mcore\u001b[0m\u001b[0;34m.\u001b[0m\u001b[0m_status_to_exception\u001b[0m\u001b[0;34m(\u001b[0m\u001b[0me\u001b[0m\u001b[0;34m)\u001b[0m \u001b[0;32mfrom\u001b[0m \u001b[0;32mNone\u001b[0m  \u001b[0;31m# pylint: disable=protected-access\u001b[0m\u001b[0;34m\u001b[0m\u001b[0;34m\u001b[0m\u001b[0m\n\u001b[0m\u001b[1;32m   6003\u001b[0m \u001b[0;34m\u001b[0m\u001b[0m\n\u001b[1;32m   6004\u001b[0m \u001b[0;34m\u001b[0m\u001b[0m\n",
            "\u001b[0;31mUnimplementedError\u001b[0m: {{function_node __wrapped__Cast_device_/job:localhost/replica:0/task:0/device:CPU:0}} Cast string to int32 is not supported [Op:Cast] name: "
          ]
        }
      ]
    },
    {
      "cell_type": "code",
      "source": [
        "import numpy as np"
      ],
      "metadata": {
        "id": "5MVGLH9Ft1lz"
      },
      "execution_count": 29,
      "outputs": []
    },
    {
      "cell_type": "code",
      "source": [
        "numpy_array = np.array([1,2,4])\n",
        "print(numpy_array)"
      ],
      "metadata": {
        "colab": {
          "base_uri": "https://localhost:8080/"
        },
        "id": "keBb4n7st6MJ",
        "outputId": "d1e33d60-6d6d-4ca9-8630-71a81533fee7"
      },
      "execution_count": 30,
      "outputs": [
        {
          "output_type": "stream",
          "name": "stdout",
          "text": [
            "[1 2 4]\n"
          ]
        }
      ]
    },
    {
      "cell_type": "code",
      "source": [
        "numpy_array"
      ],
      "metadata": {
        "colab": {
          "base_uri": "https://localhost:8080/"
        },
        "id": "ZnfXxgcYuH0Z",
        "outputId": "f5b635b0-54e3-4e22-c97a-7924be7580d4"
      },
      "execution_count": 31,
      "outputs": [
        {
          "output_type": "execute_result",
          "data": {
            "text/plain": [
              "array([1, 2, 4])"
            ]
          },
          "metadata": {},
          "execution_count": 31
        }
      ]
    },
    {
      "cell_type": "code",
      "source": [
        "converted_tensor = tf.convert_to_tensor(numpy_array, dtype=tf.float32)\n",
        "print(converted_tensor)"
      ],
      "metadata": {
        "colab": {
          "base_uri": "https://localhost:8080/"
        },
        "id": "3V8fMJLsuKml",
        "outputId": "e063df6d-dd33-44c8-86e4-0eccb768cb44"
      },
      "execution_count": 34,
      "outputs": [
        {
          "output_type": "stream",
          "name": "stdout",
          "text": [
            "tf.Tensor([1. 2. 4.], shape=(3,), dtype=float32)\n"
          ]
        }
      ]
    },
    {
      "cell_type": "code",
      "source": [
        "identity_matrix = tf.eye(\n",
        "    num_rows=3,\n",
        "    num_columns=5,\n",
        "    batch_shape=None,\n",
        "    dtype=tf.float32\n",
        ") #Columns  = None will give square matrix and can set to anything to get something like this"
      ],
      "metadata": {
        "id": "zhMCKMFsuQa-"
      },
      "execution_count": 39,
      "outputs": []
    },
    {
      "cell_type": "code",
      "source": [
        "print(5 * identity_matrix)"
      ],
      "metadata": {
        "colab": {
          "base_uri": "https://localhost:8080/"
        },
        "id": "Mwnd4h9wupiR",
        "outputId": "1febdf41-0e6b-490b-9b9e-b9c12391f7f8"
      },
      "execution_count": 40,
      "outputs": [
        {
          "output_type": "stream",
          "name": "stdout",
          "text": [
            "tf.Tensor(\n",
            "[[5. 0. 0. 0. 0.]\n",
            " [0. 5. 0. 0. 0.]\n",
            " [0. 0. 5. 0. 0.]], shape=(3, 5), dtype=float32)\n"
          ]
        }
      ]
    },
    {
      "cell_type": "code",
      "source": [
        "print(tf.cast(identity_matrix, dtype=tf.bool))"
      ],
      "metadata": {
        "colab": {
          "base_uri": "https://localhost:8080/"
        },
        "id": "iKXMTMnwu4uB",
        "outputId": "b0469abd-626f-4fd8-d3af-ff7c1c809f2a"
      },
      "execution_count": 41,
      "outputs": [
        {
          "output_type": "stream",
          "name": "stdout",
          "text": [
            "tf.Tensor(\n",
            "[[ True False False False False]\n",
            " [False  True False False False]\n",
            " [False False  True False False]], shape=(3, 5), dtype=bool)\n"
          ]
        }
      ]
    },
    {
      "cell_type": "code",
      "source": [
        "identity_matrix1 = tf.eye(\n",
        "    num_rows=3,\n",
        "    num_columns=None,\n",
        "    batch_shape=[2,4],\n",
        "    dtype=tf.float32\n",
        ")\n",
        "\n",
        "print(identity_matrix1)"
      ],
      "metadata": {
        "colab": {
          "base_uri": "https://localhost:8080/"
        },
        "id": "w3mfqg1zvIi_",
        "outputId": "ac2691a1-25ef-43c3-ed42-78a30a2ba16a"
      },
      "execution_count": 45,
      "outputs": [
        {
          "output_type": "stream",
          "name": "stdout",
          "text": [
            "tf.Tensor(\n",
            "[[[[1. 0. 0.]\n",
            "   [0. 1. 0.]\n",
            "   [0. 0. 1.]]\n",
            "\n",
            "  [[1. 0. 0.]\n",
            "   [0. 1. 0.]\n",
            "   [0. 0. 1.]]\n",
            "\n",
            "  [[1. 0. 0.]\n",
            "   [0. 1. 0.]\n",
            "   [0. 0. 1.]]\n",
            "\n",
            "  [[1. 0. 0.]\n",
            "   [0. 1. 0.]\n",
            "   [0. 0. 1.]]]\n",
            "\n",
            "\n",
            " [[[1. 0. 0.]\n",
            "   [0. 1. 0.]\n",
            "   [0. 0. 1.]]\n",
            "\n",
            "  [[1. 0. 0.]\n",
            "   [0. 1. 0.]\n",
            "   [0. 0. 1.]]\n",
            "\n",
            "  [[1. 0. 0.]\n",
            "   [0. 1. 0.]\n",
            "   [0. 0. 1.]]\n",
            "\n",
            "  [[1. 0. 0.]\n",
            "   [0. 1. 0.]\n",
            "   [0. 0. 1.]]]], shape=(2, 4, 3, 3), dtype=float32)\n"
          ]
        }
      ]
    },
    {
      "cell_type": "code",
      "source": [
        "filled_tensor = tf.fill([3,3], 10, name=\"Test\")\n",
        "print(filled_tensor)"
      ],
      "metadata": {
        "colab": {
          "base_uri": "https://localhost:8080/"
        },
        "id": "cEAEpwz-vdPD",
        "outputId": "605be8a2-d589-411d-ceeb-5099f2b103f8"
      },
      "execution_count": 48,
      "outputs": [
        {
          "output_type": "stream",
          "name": "stdout",
          "text": [
            "tf.Tensor(\n",
            "[[10 10 10]\n",
            " [10 10 10]\n",
            " [10 10 10]], shape=(3, 3), dtype=int32)\n"
          ]
        }
      ]
    },
    {
      "cell_type": "code",
      "source": [
        "tf.size(filled_tensor) #returns a tensor with the number of elements in the tensor"
      ],
      "metadata": {
        "colab": {
          "base_uri": "https://localhost:8080/"
        },
        "id": "1xf9aHqiyP3D",
        "outputId": "364bab94-3411-404c-bed7-80ce87d1a217"
      },
      "execution_count": 50,
      "outputs": [
        {
          "output_type": "execute_result",
          "data": {
            "text/plain": [
              "<tf.Tensor: shape=(), dtype=int32, numpy=9>"
            ]
          },
          "metadata": {},
          "execution_count": 50
        }
      ]
    },
    {
      "cell_type": "code",
      "source": [
        "tf.size(identity_matrix1, out_type=tf.float64)"
      ],
      "metadata": {
        "colab": {
          "base_uri": "https://localhost:8080/"
        },
        "id": "5ToYqaSyyRj6",
        "outputId": "25e667cc-e91b-4732-e8df-40c0e23d2dee"
      },
      "execution_count": 52,
      "outputs": [
        {
          "output_type": "execute_result",
          "data": {
            "text/plain": [
              "<tf.Tensor: shape=(), dtype=float64, numpy=72.0>"
            ]
          },
          "metadata": {},
          "execution_count": 52
        }
      ]
    },
    {
      "cell_type": "code",
      "source": [
        "random_tensor = tf.random.normal(\n",
        "    [3,2],\n",
        "    mean = 0.0,\n",
        "    stddev = 1.0,\n",
        "    dtype = tf.float32,\n",
        "    seed = None,\n",
        "    name = None\n",
        ")\n",
        "\n",
        "print(random_tensor)"
      ],
      "metadata": {
        "colab": {
          "base_uri": "https://localhost:8080/"
        },
        "id": "m4KNcqBwygme",
        "outputId": "3c506776-638c-4281-c3ef-d2e9cc88940a"
      },
      "execution_count": 55,
      "outputs": [
        {
          "output_type": "stream",
          "name": "stdout",
          "text": [
            "tf.Tensor(\n",
            "[[ 0.5177638  -0.9499917 ]\n",
            " [-0.33650762  0.69638777]\n",
            " [ 0.8975706  -0.1787923 ]], shape=(3, 2), dtype=float32)\n"
          ]
        }
      ]
    },
    {
      "cell_type": "code",
      "source": [
        "random_tensor = tf.random.normal(\n",
        "    [3,2],\n",
        "    mean = 100.0,\n",
        "    stddev = 100.0, #Gives us values that vary from the mean by around 100\n",
        "    dtype = tf.float32,\n",
        "    seed = None,\n",
        "    name = None\n",
        ")\n",
        "\n",
        "print(random_tensor)"
      ],
      "metadata": {
        "colab": {
          "base_uri": "https://localhost:8080/"
        },
        "id": "vrM0VzLxy2CW",
        "outputId": "9331fdd8-deb1-499b-d196-74ddcb47d497"
      },
      "execution_count": 57,
      "outputs": [
        {
          "output_type": "stream",
          "name": "stdout",
          "text": [
            "tf.Tensor(\n",
            "[[ 65.35202  79.41   ]\n",
            " [169.25055 109.05708]\n",
            " [105.71375 149.64539]], shape=(3, 2), dtype=float32)\n"
          ]
        }
      ]
    },
    {
      "cell_type": "code",
      "source": [
        "random_tensor = tf.random.normal(\n",
        "    [3,2],\n",
        "    mean = 100.0, #Gives us values of mean of around 100\n",
        "    stddev = 1.0, #Gives us values that vary from the mean by around 1\n",
        "    dtype = tf.float32,\n",
        "    seed = None,\n",
        "    name = None\n",
        ")\n",
        "\n",
        "print(random_tensor)"
      ],
      "metadata": {
        "colab": {
          "base_uri": "https://localhost:8080/"
        },
        "id": "QwzcPluSzORa",
        "outputId": "2678e0d1-931e-44a9-c0f5-1176b78fe79f"
      },
      "execution_count": 58,
      "outputs": [
        {
          "output_type": "stream",
          "name": "stdout",
          "text": [
            "tf.Tensor(\n",
            "[[ 99.26829   99.75984 ]\n",
            " [100.11934  100.605835]\n",
            " [ 98.96017  100.49157 ]], shape=(3, 2), dtype=float32)\n"
          ]
        }
      ]
    },
    {
      "cell_type": "code",
      "source": [
        "uniform_tensor = tf.random.uniform(\n",
        "    [2,3],\n",
        "    minval = 0,\n",
        "    maxval = None, #defaults to 1\n",
        "    dtype = tf.float32,\n",
        "    seed = None,\n",
        "    name = None\n",
        ")\n",
        "\n",
        "#All the values between the minval and the maxval have a 50% change of being in the tensor, whereas the normal has probability of mean occuring high and other elements lower like bell curve\n",
        "print(uniform_tensor)"
      ],
      "metadata": {
        "colab": {
          "base_uri": "https://localhost:8080/"
        },
        "id": "X3Rb6iO_zubP",
        "outputId": "53839ea1-73cd-4893-9aef-b0dc1ab004a3"
      },
      "execution_count": 59,
      "outputs": [
        {
          "output_type": "stream",
          "name": "stdout",
          "text": [
            "tf.Tensor(\n",
            "[[0.46503735 0.22355759 0.46969712]\n",
            " [0.30542326 0.60566664 0.33624852]], shape=(2, 3), dtype=float32)\n"
          ]
        }
      ]
    },
    {
      "cell_type": "code",
      "source": [
        "uniform_tensor = tf.random.uniform(\n",
        "    [2,3],\n",
        "    minval = 0,\n",
        "    maxval = 100,\n",
        "    dtype = tf.float32,\n",
        "    seed = None,\n",
        "    name = None\n",
        ")\n",
        "\n",
        "print(uniform_tensor)"
      ],
      "metadata": {
        "colab": {
          "base_uri": "https://localhost:8080/"
        },
        "id": "cSjw1qMf1dqu",
        "outputId": "597a253e-b6a2-4cab-d9d2-b7e9b61c88f7"
      },
      "execution_count": 62,
      "outputs": [
        {
          "output_type": "stream",
          "name": "stdout",
          "text": [
            "tf.Tensor(\n",
            "[[ 6.0055017 51.265083  77.40809  ]\n",
            " [79.17391   15.138102  90.217995 ]], shape=(2, 3), dtype=float32)\n"
          ]
        }
      ]
    },
    {
      "cell_type": "code",
      "source": [
        "#tf.random.set_seed(32) #Sets global seed\n",
        "print(tf.random.uniform([2,3], minval=0, maxval=10, seed=4)) #We are not overriding the seed\n",
        "#We are using both seeds together\n",
        "print(tf.random.uniform([2,3], minval=0, maxval=10, seed=4))\n",
        "print(tf.random.uniform([2,3], minval=0, maxval=10, seed=4))\n",
        "print(tf.random.uniform([2,3], minval=0, maxval=10))\n",
        "\n",
        "#Run this multiple times"
      ],
      "metadata": {
        "colab": {
          "base_uri": "https://localhost:8080/"
        },
        "id": "YaGupsFc1mYm",
        "outputId": "200a9240-5f29-48de-cbbe-bcda8ddb6678"
      },
      "execution_count": 75,
      "outputs": [
        {
          "output_type": "stream",
          "name": "stdout",
          "text": [
            "tf.Tensor(\n",
            "[[7.058065  9.753601  7.282633 ]\n",
            " [9.075569  2.1974826 0.6333399]], shape=(2, 3), dtype=float32)\n",
            "tf.Tensor(\n",
            "[[5.4747653 8.022779  6.121669 ]\n",
            " [2.9681206 4.8530397 9.182172 ]], shape=(2, 3), dtype=float32)\n",
            "tf.Tensor(\n",
            "[[2.0592546 5.765331  6.7363667]\n",
            " [7.6667953 5.8978424 7.9674363]], shape=(2, 3), dtype=float32)\n",
            "tf.Tensor(\n",
            "[[9.367114  6.2011137 2.6261568]\n",
            " [6.4392304 8.944654  1.9541836]], shape=(2, 3), dtype=float32)\n"
          ]
        }
      ]
    },
    {
      "cell_type": "code",
      "source": [
        "tf.random.set_seed(32) #Sets global seed\n",
        "print(tf.random.uniform([2,3], minval=0, maxval=10, seed=4)) #We are not overriding the seed\n",
        "#We are using both seeds together\n",
        "print(tf.random.uniform([2,3], minval=0, maxval=10, seed=4))\n",
        "print(tf.random.uniform([2,3], minval=0, maxval=10, seed=4))\n",
        "print(tf.random.uniform([2,3], minval=0, maxval=10))\n",
        "\n",
        "#Run this multiple times"
      ],
      "metadata": {
        "colab": {
          "base_uri": "https://localhost:8080/"
        },
        "outputId": "9bdab3c2-ded9-420a-9116-fca6f2c5c04e",
        "id": "nQZJ_LVo4DKC"
      },
      "execution_count": 78,
      "outputs": [
        {
          "output_type": "stream",
          "name": "stdout",
          "text": [
            "tf.Tensor(\n",
            "[[2.044133  8.605606  2.7524328]\n",
            " [7.449169  8.96482   5.4136252]], shape=(2, 3), dtype=float32)\n",
            "tf.Tensor(\n",
            "[[2.3985982  0.838114   6.9565954 ]\n",
            " [2.9534018  0.55855393 6.092435  ]], shape=(2, 3), dtype=float32)\n",
            "tf.Tensor(\n",
            "[[3.184303   4.785669   4.6754646 ]\n",
            " [0.18546939 4.510329   9.545688  ]], shape=(2, 3), dtype=float32)\n",
            "tf.Tensor(\n",
            "[[5.4520597 1.3372338 4.523267 ]\n",
            " [1.5582252 9.621073  8.151463 ]], shape=(2, 3), dtype=float32)\n"
          ]
        }
      ]
    },
    {
      "cell_type": "code",
      "source": [
        "#We get these different outputs as the local seed only determines the random generation for that op\n",
        "#If the global seed is not set tf uses a non-deterministic seed source\n",
        "#Which means each local seed will behave differently each time it is run unless a global seed is set"
      ],
      "metadata": {
        "id": "fHl_yTzA4FRs"
      },
      "execution_count": 79,
      "outputs": []
    },
    {
      "cell_type": "code",
      "source": [
        "#Just the global seed set should make it reproducible but if we insert a new random op the sequencing of the stuff changes\n",
        "\n",
        "#This is because we are advancing the random number generators state"
      ],
      "metadata": {
        "id": "kDKhjvZc4Uoq"
      },
      "execution_count": 81,
      "outputs": []
    },
    {
      "cell_type": "code",
      "source": [
        "tensor_to_index = tf.constant([4,3,6,8,3,1])\n",
        "print(tensor_to_index)"
      ],
      "metadata": {
        "colab": {
          "base_uri": "https://localhost:8080/"
        },
        "id": "2ZeZVitl4xIb",
        "outputId": "fbc48a8f-366d-47ce-89a9-6d3262455576"
      },
      "execution_count": 82,
      "outputs": [
        {
          "output_type": "stream",
          "name": "stdout",
          "text": [
            "tf.Tensor([4 3 6 8 3 1], shape=(6,), dtype=int32)\n"
          ]
        }
      ]
    },
    {
      "cell_type": "code",
      "source": [
        "print(tensor_to_index[2:5])"
      ],
      "metadata": {
        "colab": {
          "base_uri": "https://localhost:8080/"
        },
        "id": "ezCuiGSF6Hhv",
        "outputId": "ec90d1bd-58b4-4bb6-c1ac-827e5490c526"
      },
      "execution_count": 84,
      "outputs": [
        {
          "output_type": "stream",
          "name": "stdout",
          "text": [
            "tf.Tensor([6 8 3], shape=(3,), dtype=int32)\n"
          ]
        }
      ]
    },
    {
      "cell_type": "code",
      "source": [
        "print(tensor_two_d)"
      ],
      "metadata": {
        "colab": {
          "base_uri": "https://localhost:8080/"
        },
        "id": "yR0ndhZc6J5z",
        "outputId": "dbc29b64-d9d3-4622-df5e-c67d8ce5b320"
      },
      "execution_count": 85,
      "outputs": [
        {
          "output_type": "stream",
          "name": "stdout",
          "text": [
            "tf.Tensor(\n",
            "[[ 2  0 -3]\n",
            " [ 1  2  0]], shape=(2, 3), dtype=int32)\n"
          ]
        }
      ]
    },
    {
      "cell_type": "code",
      "source": [
        "tensor_two_d = tf.constant(\n",
        "    [[1,2,0],\n",
        "     [3,5,-1],\n",
        "     [1,5,6],\n",
        "     [2,3,8]]\n",
        ")"
      ],
      "metadata": {
        "id": "GjZI6k7B7Gds"
      },
      "execution_count": 89,
      "outputs": []
    },
    {
      "cell_type": "code",
      "source": [
        "print(tensor_two_d)"
      ],
      "metadata": {
        "colab": {
          "base_uri": "https://localhost:8080/"
        },
        "id": "DeomHqgY7OW0",
        "outputId": "f051e39e-ae32-4329-b5a2-728a0eed9064"
      },
      "execution_count": 90,
      "outputs": [
        {
          "output_type": "stream",
          "name": "stdout",
          "text": [
            "tf.Tensor(\n",
            "[[ 1  2  0]\n",
            " [ 3  5 -1]\n",
            " [ 1  5  6]\n",
            " [ 2  3  8]], shape=(4, 3), dtype=int32)\n"
          ]
        }
      ]
    },
    {
      "cell_type": "code",
      "source": [
        "print(tensor_two_d[2,1]) # [row, column] if we give these indices we get the value there"
      ],
      "metadata": {
        "colab": {
          "base_uri": "https://localhost:8080/"
        },
        "id": "-5ZCmEBe7nt-",
        "outputId": "2c1d67ab-1bdf-4383-d67e-6316e92ff5f6"
      },
      "execution_count": 91,
      "outputs": [
        {
          "output_type": "stream",
          "name": "stdout",
          "text": [
            "tf.Tensor(5, shape=(), dtype=int32)\n"
          ]
        }
      ]
    },
    {
      "cell_type": "code",
      "source": [
        "#If we want everything from a few rows and a few columns we just give the inputs to the row and column\n",
        "# as a range using the :\n",
        "\n",
        "print(tensor_two_d[0:3, 0:2])"
      ],
      "metadata": {
        "colab": {
          "base_uri": "https://localhost:8080/"
        },
        "id": "dX6BvCjm7srS",
        "outputId": "19fd8b74-8e66-4228-b378-b8809b36cc96"
      },
      "execution_count": 92,
      "outputs": [
        {
          "output_type": "stream",
          "name": "stdout",
          "text": [
            "tf.Tensor(\n",
            "[[1 2]\n",
            " [3 5]\n",
            " [1 5]], shape=(3, 2), dtype=int32)\n"
          ]
        }
      ]
    },
    {
      "cell_type": "code",
      "source": [
        "print(tensor_two_d[0:3, 1])"
      ],
      "metadata": {
        "colab": {
          "base_uri": "https://localhost:8080/"
        },
        "id": "eUmXZnLQ786k",
        "outputId": "602aa2e1-f46e-48c6-c548-0bc35057b8a0"
      },
      "execution_count": 93,
      "outputs": [
        {
          "output_type": "stream",
          "name": "stdout",
          "text": [
            "tf.Tensor([2 5 5], shape=(3,), dtype=int32)\n"
          ]
        }
      ]
    },
    {
      "cell_type": "code",
      "source": [],
      "metadata": {
        "id": "trHIZ3p_9M-q"
      },
      "execution_count": null,
      "outputs": []
    }
  ]
}