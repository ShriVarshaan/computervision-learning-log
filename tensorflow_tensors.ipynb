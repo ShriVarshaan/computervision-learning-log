{
  "nbformat": 4,
  "nbformat_minor": 0,
  "metadata": {
    "colab": {
      "provenance": [],
      "authorship_tag": "ABX9TyOAXIBOdS86E+RvbJ18lTHF",
      "include_colab_link": true
    },
    "kernelspec": {
      "name": "python3",
      "display_name": "Python 3"
    },
    "language_info": {
      "name": "python"
    }
  },
  "cells": [
    {
      "cell_type": "markdown",
      "metadata": {
        "id": "view-in-github",
        "colab_type": "text"
      },
      "source": [
        "<a href=\"https://colab.research.google.com/github/ShriVarshaan/computervision-learning-log/blob/main/tensorflow_tensors.ipynb\" target=\"_parent\"><img src=\"https://colab.research.google.com/assets/colab-badge.svg\" alt=\"Open In Colab\"/></a>"
      ]
    },
    {
      "cell_type": "code",
      "execution_count": 1,
      "metadata": {
        "id": "yTh_4cKcjl5P"
      },
      "outputs": [],
      "source": [
        "import tensorflow as tf"
      ]
    },
    {
      "cell_type": "code",
      "source": [
        "#Creating a 0D tensor\n",
        "tensor_zero_d = tf.constant(4)"
      ],
      "metadata": {
        "id": "7HlSR5lQkNKG"
      },
      "execution_count": 2,
      "outputs": []
    },
    {
      "cell_type": "code",
      "source": [
        "print(tensor_zero_d)"
      ],
      "metadata": {
        "colab": {
          "base_uri": "https://localhost:8080/"
        },
        "id": "cb1QvwIPkTia",
        "outputId": "5822ddb6-197f-413b-8441-772f5e70851c"
      },
      "execution_count": 3,
      "outputs": [
        {
          "output_type": "stream",
          "name": "stdout",
          "text": [
            "tf.Tensor(4, shape=(), dtype=int32)\n"
          ]
        }
      ]
    },
    {
      "cell_type": "code",
      "source": [
        "tensor_one_d = tf.constant([2,0,-3])\n",
        "print(tensor_one_d)"
      ],
      "metadata": {
        "colab": {
          "base_uri": "https://localhost:8080/"
        },
        "id": "tWoSKnq1kZVO",
        "outputId": "3d7c9456-ee36-4855-963f-2814c0237c74"
      },
      "execution_count": 4,
      "outputs": [
        {
          "output_type": "stream",
          "name": "stdout",
          "text": [
            "tf.Tensor([ 2  0 -3], shape=(3,), dtype=int32)\n"
          ]
        }
      ]
    },
    {
      "cell_type": "code",
      "source": [
        "tensor_two_d = tf.constant([[2,0,-3], [1,2,0]])\n",
        "print(tensor_two_d)"
      ],
      "metadata": {
        "colab": {
          "base_uri": "https://localhost:8080/"
        },
        "id": "uIrF0iiwklk0",
        "outputId": "d1f68b5a-e79f-44e8-8c67-230776ee7782"
      },
      "execution_count": 5,
      "outputs": [
        {
          "output_type": "stream",
          "name": "stdout",
          "text": [
            "tf.Tensor(\n",
            "[[ 2  0 -3]\n",
            " [ 1  2  0]], shape=(2, 3), dtype=int32)\n"
          ]
        }
      ]
    },
    {
      "cell_type": "code",
      "source": [
        "tensor_three_d = tf.constant([\n",
        "    [[1,2,0],\n",
        "    [3,5,1]],\n",
        "\n",
        "    [[10,2,0],\n",
        "    [1,0,2]],\n",
        "\n",
        "    [[5,8,0],\n",
        "    [2,7,0]],\n",
        "\n",
        "    [[2,1,9],\n",
        "    [4,-3,32]]\n",
        "], dtype = tf.float32)\n",
        "\n",
        "print(tensor_three_d)"
      ],
      "metadata": {
        "colab": {
          "base_uri": "https://localhost:8080/"
        },
        "id": "2rIvRN6ak67Y",
        "outputId": "cf586d70-2e1f-490d-e8ab-df7e95d94695"
      },
      "execution_count": 6,
      "outputs": [
        {
          "output_type": "stream",
          "name": "stdout",
          "text": [
            "tf.Tensor(\n",
            "[[[ 1.  2.  0.]\n",
            "  [ 3.  5.  1.]]\n",
            "\n",
            " [[10.  2.  0.]\n",
            "  [ 1.  0.  2.]]\n",
            "\n",
            " [[ 5.  8.  0.]\n",
            "  [ 2.  7.  0.]]\n",
            "\n",
            " [[ 2.  1.  9.]\n",
            "  [ 4. -3. 32.]]], shape=(4, 2, 3), dtype=float32)\n"
          ]
        }
      ]
    },
    {
      "cell_type": "code",
      "source": [
        "print(tensor_three_d.dtype)\n",
        "print(tensor_three_d.ndim) #The rank of a tensor is the same as ndim, not the same as the rank of matrix\n",
        "print(tensor_three_d.shape)"
      ],
      "metadata": {
        "colab": {
          "base_uri": "https://localhost:8080/"
        },
        "id": "w_Ic9UMUlph6",
        "outputId": "e18b2b24-0ff4-4a9f-b7cc-f10caa523ad3"
      },
      "execution_count": 7,
      "outputs": [
        {
          "output_type": "stream",
          "name": "stdout",
          "text": [
            "<dtype: 'float32'>\n",
            "3\n",
            "(4, 2, 3)\n"
          ]
        }
      ]
    },
    {
      "cell_type": "code",
      "source": [
        "print(tf.cast(tensor_three_d, dtype=tf.int64)) #Doesn't change the original tensor, creates a copy instead"
      ],
      "metadata": {
        "colab": {
          "base_uri": "https://localhost:8080/"
        },
        "id": "uMUTn4WImYxd",
        "outputId": "9f692729-ab6f-4f74-eee6-23580fc9c82a"
      },
      "execution_count": 8,
      "outputs": [
        {
          "output_type": "stream",
          "name": "stdout",
          "text": [
            "tf.Tensor(\n",
            "[[[ 1  2  0]\n",
            "  [ 3  5  1]]\n",
            "\n",
            " [[10  2  0]\n",
            "  [ 1  0  2]]\n",
            "\n",
            " [[ 5  8  0]\n",
            "  [ 2  7  0]]\n",
            "\n",
            " [[ 2  1  9]\n",
            "  [ 4 -3 32]]], shape=(4, 2, 3), dtype=int64)\n"
          ]
        }
      ]
    },
    {
      "cell_type": "code",
      "source": [
        "print(tensor_three_d)"
      ],
      "metadata": {
        "colab": {
          "base_uri": "https://localhost:8080/"
        },
        "id": "9LfqdkaRs-m8",
        "outputId": "d151fc3b-c877-4284-f2f4-f681d481cd3a"
      },
      "execution_count": 9,
      "outputs": [
        {
          "output_type": "stream",
          "name": "stdout",
          "text": [
            "tf.Tensor(\n",
            "[[[ 1.  2.  0.]\n",
            "  [ 3.  5.  1.]]\n",
            "\n",
            " [[10.  2.  0.]\n",
            "  [ 1.  0.  2.]]\n",
            "\n",
            " [[ 5.  8.  0.]\n",
            "  [ 2.  7.  0.]]\n",
            "\n",
            " [[ 2.  1.  9.]\n",
            "  [ 4. -3. 32.]]], shape=(4, 2, 3), dtype=float32)\n"
          ]
        }
      ]
    },
    {
      "cell_type": "code",
      "source": [
        "print(tf.cast(tensor_three_d, dtype=tf.bool)) #Changes all the 0's to a False and everything else is true"
      ],
      "metadata": {
        "colab": {
          "base_uri": "https://localhost:8080/"
        },
        "id": "qQIDTqsFtDhS",
        "outputId": "3f27c847-ea51-4690-aca7-acdb9b90704a"
      },
      "execution_count": 10,
      "outputs": [
        {
          "output_type": "stream",
          "name": "stdout",
          "text": [
            "tf.Tensor(\n",
            "[[[ True  True False]\n",
            "  [ True  True  True]]\n",
            "\n",
            " [[ True  True False]\n",
            "  [ True False  True]]\n",
            "\n",
            " [[ True  True False]\n",
            "  [ True  True False]]\n",
            "\n",
            " [[ True  True  True]\n",
            "  [ True  True  True]]], shape=(4, 2, 3), dtype=bool)\n"
          ]
        }
      ]
    },
    {
      "cell_type": "code",
      "source": [
        "tensor_bool = tf.constant([True, True, False])\n",
        "print(tensor_bool)"
      ],
      "metadata": {
        "colab": {
          "base_uri": "https://localhost:8080/"
        },
        "id": "P5trVuRHtNiB",
        "outputId": "96f773bf-46dc-4336-9b7e-c20b104e92dc"
      },
      "execution_count": 11,
      "outputs": [
        {
          "output_type": "stream",
          "name": "stdout",
          "text": [
            "tf.Tensor([ True  True False], shape=(3,), dtype=bool)\n"
          ]
        }
      ]
    },
    {
      "cell_type": "code",
      "source": [
        "print(tf.cast(tensor_bool, dtype=tf.int32)) #Changes the true to 1 and false to 0"
      ],
      "metadata": {
        "colab": {
          "base_uri": "https://localhost:8080/"
        },
        "id": "B2LFq0E4tjBU",
        "outputId": "f97365a3-8edd-4678-e968-04d5ecdd0075"
      },
      "execution_count": 12,
      "outputs": [
        {
          "output_type": "stream",
          "name": "stdout",
          "text": [
            "tf.Tensor([1 1 0], shape=(3,), dtype=int32)\n"
          ]
        }
      ]
    },
    {
      "cell_type": "code",
      "source": [
        "tensor_string = tf.constant([\"hello\", \"world\", \"hi\"])\n",
        "print(tensor_string)"
      ],
      "metadata": {
        "colab": {
          "base_uri": "https://localhost:8080/"
        },
        "id": "lFtg6y_ttnve",
        "outputId": "9582808c-40bb-46e4-c9f0-4cc2ef55764b"
      },
      "execution_count": 13,
      "outputs": [
        {
          "output_type": "stream",
          "name": "stdout",
          "text": [
            "tf.Tensor([b'hello' b'world' b'hi'], shape=(3,), dtype=string)\n"
          ]
        }
      ]
    },
    {
      "cell_type": "code",
      "source": [
        "print(tf.cast(tensor_string, dtype=tf.int32))"
      ],
      "metadata": {
        "colab": {
          "base_uri": "https://localhost:8080/",
          "height": 287
        },
        "id": "oHPFYM_ctyra",
        "outputId": "2c10033a-fc3a-4d26-fac1-bdadfe098464"
      },
      "execution_count": 14,
      "outputs": [
        {
          "output_type": "error",
          "ename": "UnimplementedError",
          "evalue": "{{function_node __wrapped__Cast_device_/job:localhost/replica:0/task:0/device:CPU:0}} Cast string to int32 is not supported [Op:Cast] name: ",
          "traceback": [
            "\u001b[0;31m---------------------------------------------------------------------------\u001b[0m",
            "\u001b[0;31mUnimplementedError\u001b[0m                        Traceback (most recent call last)",
            "\u001b[0;32m/tmp/ipython-input-14-1196356254.py\u001b[0m in \u001b[0;36m<cell line: 0>\u001b[0;34m()\u001b[0m\n\u001b[0;32m----> 1\u001b[0;31m \u001b[0mprint\u001b[0m\u001b[0;34m(\u001b[0m\u001b[0mtf\u001b[0m\u001b[0;34m.\u001b[0m\u001b[0mcast\u001b[0m\u001b[0;34m(\u001b[0m\u001b[0mtensor_string\u001b[0m\u001b[0;34m,\u001b[0m \u001b[0mdtype\u001b[0m\u001b[0;34m=\u001b[0m\u001b[0mtf\u001b[0m\u001b[0;34m.\u001b[0m\u001b[0mint32\u001b[0m\u001b[0;34m)\u001b[0m\u001b[0;34m)\u001b[0m\u001b[0;34m\u001b[0m\u001b[0;34m\u001b[0m\u001b[0m\n\u001b[0m",
            "\u001b[0;32m/usr/local/lib/python3.11/dist-packages/tensorflow/python/util/traceback_utils.py\u001b[0m in \u001b[0;36merror_handler\u001b[0;34m(*args, **kwargs)\u001b[0m\n\u001b[1;32m    151\u001b[0m     \u001b[0;32mexcept\u001b[0m \u001b[0mException\u001b[0m \u001b[0;32mas\u001b[0m \u001b[0me\u001b[0m\u001b[0;34m:\u001b[0m\u001b[0;34m\u001b[0m\u001b[0;34m\u001b[0m\u001b[0m\n\u001b[1;32m    152\u001b[0m       \u001b[0mfiltered_tb\u001b[0m \u001b[0;34m=\u001b[0m \u001b[0m_process_traceback_frames\u001b[0m\u001b[0;34m(\u001b[0m\u001b[0me\u001b[0m\u001b[0;34m.\u001b[0m\u001b[0m__traceback__\u001b[0m\u001b[0;34m)\u001b[0m\u001b[0;34m\u001b[0m\u001b[0;34m\u001b[0m\u001b[0m\n\u001b[0;32m--> 153\u001b[0;31m       \u001b[0;32mraise\u001b[0m \u001b[0me\u001b[0m\u001b[0;34m.\u001b[0m\u001b[0mwith_traceback\u001b[0m\u001b[0;34m(\u001b[0m\u001b[0mfiltered_tb\u001b[0m\u001b[0;34m)\u001b[0m \u001b[0;32mfrom\u001b[0m \u001b[0;32mNone\u001b[0m\u001b[0;34m\u001b[0m\u001b[0;34m\u001b[0m\u001b[0m\n\u001b[0m\u001b[1;32m    154\u001b[0m     \u001b[0;32mfinally\u001b[0m\u001b[0;34m:\u001b[0m\u001b[0;34m\u001b[0m\u001b[0;34m\u001b[0m\u001b[0m\n\u001b[1;32m    155\u001b[0m       \u001b[0;32mdel\u001b[0m \u001b[0mfiltered_tb\u001b[0m\u001b[0;34m\u001b[0m\u001b[0;34m\u001b[0m\u001b[0m\n",
            "\u001b[0;32m/usr/local/lib/python3.11/dist-packages/tensorflow/python/framework/ops.py\u001b[0m in \u001b[0;36mraise_from_not_ok_status\u001b[0;34m(e, name)\u001b[0m\n\u001b[1;32m   6000\u001b[0m \u001b[0;32mdef\u001b[0m \u001b[0mraise_from_not_ok_status\u001b[0m\u001b[0;34m(\u001b[0m\u001b[0me\u001b[0m\u001b[0;34m,\u001b[0m \u001b[0mname\u001b[0m\u001b[0;34m)\u001b[0m \u001b[0;34m->\u001b[0m \u001b[0mNoReturn\u001b[0m\u001b[0;34m:\u001b[0m\u001b[0;34m\u001b[0m\u001b[0;34m\u001b[0m\u001b[0m\n\u001b[1;32m   6001\u001b[0m   \u001b[0me\u001b[0m\u001b[0;34m.\u001b[0m\u001b[0mmessage\u001b[0m \u001b[0;34m+=\u001b[0m \u001b[0;34m(\u001b[0m\u001b[0;34m\" name: \"\u001b[0m \u001b[0;34m+\u001b[0m \u001b[0mstr\u001b[0m\u001b[0;34m(\u001b[0m\u001b[0mname\u001b[0m \u001b[0;32mif\u001b[0m \u001b[0mname\u001b[0m \u001b[0;32mis\u001b[0m \u001b[0;32mnot\u001b[0m \u001b[0;32mNone\u001b[0m \u001b[0;32melse\u001b[0m \u001b[0;34m\"\"\u001b[0m\u001b[0;34m)\u001b[0m\u001b[0;34m)\u001b[0m\u001b[0;34m\u001b[0m\u001b[0;34m\u001b[0m\u001b[0m\n\u001b[0;32m-> 6002\u001b[0;31m   \u001b[0;32mraise\u001b[0m \u001b[0mcore\u001b[0m\u001b[0;34m.\u001b[0m\u001b[0m_status_to_exception\u001b[0m\u001b[0;34m(\u001b[0m\u001b[0me\u001b[0m\u001b[0;34m)\u001b[0m \u001b[0;32mfrom\u001b[0m \u001b[0;32mNone\u001b[0m  \u001b[0;31m# pylint: disable=protected-access\u001b[0m\u001b[0;34m\u001b[0m\u001b[0;34m\u001b[0m\u001b[0m\n\u001b[0m\u001b[1;32m   6003\u001b[0m \u001b[0;34m\u001b[0m\u001b[0m\n\u001b[1;32m   6004\u001b[0m \u001b[0;34m\u001b[0m\u001b[0m\n",
            "\u001b[0;31mUnimplementedError\u001b[0m: {{function_node __wrapped__Cast_device_/job:localhost/replica:0/task:0/device:CPU:0}} Cast string to int32 is not supported [Op:Cast] name: "
          ]
        }
      ]
    },
    {
      "cell_type": "code",
      "source": [
        "import numpy as np"
      ],
      "metadata": {
        "id": "5MVGLH9Ft1lz"
      },
      "execution_count": 15,
      "outputs": []
    },
    {
      "cell_type": "code",
      "source": [
        "numpy_array = np.array([1,2,4])\n",
        "print(numpy_array)"
      ],
      "metadata": {
        "id": "keBb4n7st6MJ",
        "colab": {
          "base_uri": "https://localhost:8080/"
        },
        "outputId": "c79fc198-b6a4-459a-8c7a-0295c4ce90bb"
      },
      "execution_count": 16,
      "outputs": [
        {
          "output_type": "stream",
          "name": "stdout",
          "text": [
            "[1 2 4]\n"
          ]
        }
      ]
    },
    {
      "cell_type": "code",
      "source": [
        "numpy_array"
      ],
      "metadata": {
        "colab": {
          "base_uri": "https://localhost:8080/"
        },
        "id": "ZnfXxgcYuH0Z",
        "outputId": "098fe13b-62c3-4431-d8cf-552d53d0b1dd"
      },
      "execution_count": 17,
      "outputs": [
        {
          "output_type": "execute_result",
          "data": {
            "text/plain": [
              "array([1, 2, 4])"
            ]
          },
          "metadata": {},
          "execution_count": 17
        }
      ]
    },
    {
      "cell_type": "code",
      "source": [
        "converted_tensor = tf.convert_to_tensor(numpy_array, dtype=tf.float32)\n",
        "print(converted_tensor)"
      ],
      "metadata": {
        "colab": {
          "base_uri": "https://localhost:8080/"
        },
        "id": "3V8fMJLsuKml",
        "outputId": "3344bcf5-799d-4eb4-cdbe-db707f919b36"
      },
      "execution_count": 18,
      "outputs": [
        {
          "output_type": "stream",
          "name": "stdout",
          "text": [
            "tf.Tensor([1. 2. 4.], shape=(3,), dtype=float32)\n"
          ]
        }
      ]
    },
    {
      "cell_type": "code",
      "source": [
        "identity_matrix = tf.eye(\n",
        "    num_rows=3,\n",
        "    num_columns=5,\n",
        "    batch_shape=None,\n",
        "    dtype=tf.float32\n",
        ") #Columns  = None will give square matrix and can set to anything to get something like this"
      ],
      "metadata": {
        "id": "zhMCKMFsuQa-"
      },
      "execution_count": 19,
      "outputs": []
    },
    {
      "cell_type": "code",
      "source": [
        "print(5 * identity_matrix)"
      ],
      "metadata": {
        "colab": {
          "base_uri": "https://localhost:8080/"
        },
        "id": "Mwnd4h9wupiR",
        "outputId": "5c8b88f7-81b8-4b06-aa95-7e8164be9db9"
      },
      "execution_count": 20,
      "outputs": [
        {
          "output_type": "stream",
          "name": "stdout",
          "text": [
            "tf.Tensor(\n",
            "[[5. 0. 0. 0. 0.]\n",
            " [0. 5. 0. 0. 0.]\n",
            " [0. 0. 5. 0. 0.]], shape=(3, 5), dtype=float32)\n"
          ]
        }
      ]
    },
    {
      "cell_type": "code",
      "source": [
        "print(tf.cast(identity_matrix, dtype=tf.bool))"
      ],
      "metadata": {
        "colab": {
          "base_uri": "https://localhost:8080/"
        },
        "id": "iKXMTMnwu4uB",
        "outputId": "6b48cd63-89e5-4482-92a3-dc053b8c8546"
      },
      "execution_count": 21,
      "outputs": [
        {
          "output_type": "stream",
          "name": "stdout",
          "text": [
            "tf.Tensor(\n",
            "[[ True False False False False]\n",
            " [False  True False False False]\n",
            " [False False  True False False]], shape=(3, 5), dtype=bool)\n"
          ]
        }
      ]
    },
    {
      "cell_type": "code",
      "source": [
        "identity_matrix1 = tf.eye(\n",
        "    num_rows=3,\n",
        "    num_columns=None,\n",
        "    batch_shape=[2,4],\n",
        "    dtype=tf.float32\n",
        ")\n",
        "\n",
        "print(identity_matrix1)"
      ],
      "metadata": {
        "colab": {
          "base_uri": "https://localhost:8080/"
        },
        "id": "w3mfqg1zvIi_",
        "outputId": "2552c97f-7b79-4dd2-e248-6026e78eb077"
      },
      "execution_count": 22,
      "outputs": [
        {
          "output_type": "stream",
          "name": "stdout",
          "text": [
            "tf.Tensor(\n",
            "[[[[1. 0. 0.]\n",
            "   [0. 1. 0.]\n",
            "   [0. 0. 1.]]\n",
            "\n",
            "  [[1. 0. 0.]\n",
            "   [0. 1. 0.]\n",
            "   [0. 0. 1.]]\n",
            "\n",
            "  [[1. 0. 0.]\n",
            "   [0. 1. 0.]\n",
            "   [0. 0. 1.]]\n",
            "\n",
            "  [[1. 0. 0.]\n",
            "   [0. 1. 0.]\n",
            "   [0. 0. 1.]]]\n",
            "\n",
            "\n",
            " [[[1. 0. 0.]\n",
            "   [0. 1. 0.]\n",
            "   [0. 0. 1.]]\n",
            "\n",
            "  [[1. 0. 0.]\n",
            "   [0. 1. 0.]\n",
            "   [0. 0. 1.]]\n",
            "\n",
            "  [[1. 0. 0.]\n",
            "   [0. 1. 0.]\n",
            "   [0. 0. 1.]]\n",
            "\n",
            "  [[1. 0. 0.]\n",
            "   [0. 1. 0.]\n",
            "   [0. 0. 1.]]]], shape=(2, 4, 3, 3), dtype=float32)\n"
          ]
        }
      ]
    },
    {
      "cell_type": "code",
      "source": [
        "filled_tensor = tf.fill([3,3], 10, name=\"Test\")\n",
        "print(filled_tensor)"
      ],
      "metadata": {
        "colab": {
          "base_uri": "https://localhost:8080/"
        },
        "id": "cEAEpwz-vdPD",
        "outputId": "d22bf9f6-fa21-42e2-99f2-a9e6dd334265"
      },
      "execution_count": 23,
      "outputs": [
        {
          "output_type": "stream",
          "name": "stdout",
          "text": [
            "tf.Tensor(\n",
            "[[10 10 10]\n",
            " [10 10 10]\n",
            " [10 10 10]], shape=(3, 3), dtype=int32)\n"
          ]
        }
      ]
    },
    {
      "cell_type": "code",
      "source": [
        "tf.size(filled_tensor) #returns a tensor with the number of elements in the tensor"
      ],
      "metadata": {
        "colab": {
          "base_uri": "https://localhost:8080/"
        },
        "id": "1xf9aHqiyP3D",
        "outputId": "d1aac3a9-ca94-48e3-c24c-06baae19a106"
      },
      "execution_count": 24,
      "outputs": [
        {
          "output_type": "execute_result",
          "data": {
            "text/plain": [
              "<tf.Tensor: shape=(), dtype=int32, numpy=9>"
            ]
          },
          "metadata": {},
          "execution_count": 24
        }
      ]
    },
    {
      "cell_type": "code",
      "source": [
        "tf.size(identity_matrix1, out_type=tf.float64)"
      ],
      "metadata": {
        "colab": {
          "base_uri": "https://localhost:8080/"
        },
        "id": "5ToYqaSyyRj6",
        "outputId": "118e12a7-d324-481a-ce43-6f60b94a1ff8"
      },
      "execution_count": 25,
      "outputs": [
        {
          "output_type": "execute_result",
          "data": {
            "text/plain": [
              "<tf.Tensor: shape=(), dtype=float64, numpy=72.0>"
            ]
          },
          "metadata": {},
          "execution_count": 25
        }
      ]
    },
    {
      "cell_type": "code",
      "source": [
        "random_tensor = tf.random.normal(\n",
        "    [3,2],\n",
        "    mean = 0.0,\n",
        "    stddev = 1.0,\n",
        "    dtype = tf.float32,\n",
        "    seed = None,\n",
        "    name = None\n",
        ")\n",
        "\n",
        "print(random_tensor)"
      ],
      "metadata": {
        "colab": {
          "base_uri": "https://localhost:8080/"
        },
        "id": "m4KNcqBwygme",
        "outputId": "1840ea55-9ab3-4dc8-ac53-e0963f41786c"
      },
      "execution_count": 26,
      "outputs": [
        {
          "output_type": "stream",
          "name": "stdout",
          "text": [
            "tf.Tensor(\n",
            "[[-0.38234636 -0.7359206 ]\n",
            " [-1.2847623  -1.4699532 ]\n",
            " [ 0.5012868  -0.52286476]], shape=(3, 2), dtype=float32)\n"
          ]
        }
      ]
    },
    {
      "cell_type": "code",
      "source": [
        "random_tensor = tf.random.normal(\n",
        "    [3,2],\n",
        "    mean = 100.0,\n",
        "    stddev = 100.0, #Gives us values that vary from the mean by around 100\n",
        "    dtype = tf.float32,\n",
        "    seed = None,\n",
        "    name = None\n",
        ")\n",
        "\n",
        "print(random_tensor)"
      ],
      "metadata": {
        "colab": {
          "base_uri": "https://localhost:8080/"
        },
        "id": "vrM0VzLxy2CW",
        "outputId": "dba1f667-50cc-4f1e-a358-5abf45a4c1a4"
      },
      "execution_count": 27,
      "outputs": [
        {
          "output_type": "stream",
          "name": "stdout",
          "text": [
            "tf.Tensor(\n",
            "[[198.20807  105.467415]\n",
            " [248.13388  148.49002 ]\n",
            " [129.65579  186.58865 ]], shape=(3, 2), dtype=float32)\n"
          ]
        }
      ]
    },
    {
      "cell_type": "code",
      "source": [
        "random_tensor = tf.random.normal(\n",
        "    [3,2],\n",
        "    mean = 100.0, #Gives us values of mean of around 100\n",
        "    stddev = 1.0, #Gives us values that vary from the mean by around 1\n",
        "    dtype = tf.float32,\n",
        "    seed = None,\n",
        "    name = None\n",
        ")\n",
        "\n",
        "print(random_tensor)"
      ],
      "metadata": {
        "colab": {
          "base_uri": "https://localhost:8080/"
        },
        "id": "QwzcPluSzORa",
        "outputId": "09a5ecfc-3581-4e7d-d18b-6b061914aed0"
      },
      "execution_count": 28,
      "outputs": [
        {
          "output_type": "stream",
          "name": "stdout",
          "text": [
            "tf.Tensor(\n",
            "[[101.03877  101.11267 ]\n",
            " [100.27975  100.33208 ]\n",
            " [ 99.881935  99.7136  ]], shape=(3, 2), dtype=float32)\n"
          ]
        }
      ]
    },
    {
      "cell_type": "code",
      "source": [
        "uniform_tensor = tf.random.uniform(\n",
        "    [2,3],\n",
        "    minval = 0,\n",
        "    maxval = None, #defaults to 1\n",
        "    dtype = tf.float32,\n",
        "    seed = None,\n",
        "    name = None\n",
        ")\n",
        "\n",
        "#All the values between the minval and the maxval have a 50% change of being in the tensor, whereas the normal has probability of mean occuring high and other elements lower like bell curve\n",
        "print(uniform_tensor)"
      ],
      "metadata": {
        "colab": {
          "base_uri": "https://localhost:8080/"
        },
        "id": "X3Rb6iO_zubP",
        "outputId": "d04788c7-98a4-408b-b053-89719e8eefd6"
      },
      "execution_count": 29,
      "outputs": [
        {
          "output_type": "stream",
          "name": "stdout",
          "text": [
            "tf.Tensor(\n",
            "[[0.68190503 0.48209405 0.51740825]\n",
            " [0.5695977  0.6380919  0.47981787]], shape=(2, 3), dtype=float32)\n"
          ]
        }
      ]
    },
    {
      "cell_type": "code",
      "source": [
        "uniform_tensor = tf.random.uniform(\n",
        "    [2,3],\n",
        "    minval = 0,\n",
        "    maxval = 100,\n",
        "    dtype = tf.float32,\n",
        "    seed = None,\n",
        "    name = None\n",
        ")\n",
        "\n",
        "print(uniform_tensor)"
      ],
      "metadata": {
        "colab": {
          "base_uri": "https://localhost:8080/"
        },
        "id": "cSjw1qMf1dqu",
        "outputId": "8549b379-04e1-427b-9e21-6a3ee799db60"
      },
      "execution_count": 30,
      "outputs": [
        {
          "output_type": "stream",
          "name": "stdout",
          "text": [
            "tf.Tensor(\n",
            "[[65.218506 51.64708  66.39074 ]\n",
            " [37.289368 13.407803 53.33184 ]], shape=(2, 3), dtype=float32)\n"
          ]
        }
      ]
    },
    {
      "cell_type": "code",
      "source": [
        "#tf.random.set_seed(32) #Sets global seed\n",
        "print(tf.random.uniform([2,3], minval=0, maxval=10, seed=4)) #We are not overriding the seed\n",
        "#We are using both seeds together\n",
        "print(tf.random.uniform([2,3], minval=0, maxval=10, seed=4))\n",
        "print(tf.random.uniform([2,3], minval=0, maxval=10, seed=4))\n",
        "print(tf.random.uniform([2,3], minval=0, maxval=10))\n",
        "\n",
        "#Run this multiple times"
      ],
      "metadata": {
        "colab": {
          "base_uri": "https://localhost:8080/"
        },
        "id": "YaGupsFc1mYm",
        "outputId": "47da3696-102c-41cb-fe3d-fb7847a8b89c"
      },
      "execution_count": 31,
      "outputs": [
        {
          "output_type": "stream",
          "name": "stdout",
          "text": [
            "tf.Tensor(\n",
            "[[9.565817   2.6681077  9.977978  ]\n",
            " [8.45893    0.30183673 2.8946888 ]], shape=(2, 3), dtype=float32)\n",
            "tf.Tensor(\n",
            "[[7.4967327 8.196321  2.8542209]\n",
            " [9.19063   0.6549144 5.336362 ]], shape=(2, 3), dtype=float32)\n",
            "tf.Tensor(\n",
            "[[2.2864485 3.083526  5.0533247]\n",
            " [7.9322624 1.8805671 9.963772 ]], shape=(2, 3), dtype=float32)\n",
            "tf.Tensor(\n",
            "[[5.0103083 9.532189  2.740736 ]\n",
            " [1.8468869 9.631305  2.5154054]], shape=(2, 3), dtype=float32)\n"
          ]
        }
      ]
    },
    {
      "cell_type": "code",
      "source": [
        "tf.random.set_seed(32) #Sets global seed\n",
        "print(tf.random.uniform([2,3], minval=0, maxval=10, seed=4)) #We are not overriding the seed\n",
        "#We are using both seeds together\n",
        "print(tf.random.uniform([2,3], minval=0, maxval=10, seed=4))\n",
        "print(tf.random.uniform([2,3], minval=0, maxval=10, seed=4))\n",
        "print(tf.random.uniform([2,3], minval=0, maxval=10))\n",
        "\n",
        "#Run this multiple times"
      ],
      "metadata": {
        "colab": {
          "base_uri": "https://localhost:8080/"
        },
        "outputId": "dce375d5-a249-4da1-b45b-244eab797da3",
        "id": "nQZJ_LVo4DKC"
      },
      "execution_count": 32,
      "outputs": [
        {
          "output_type": "stream",
          "name": "stdout",
          "text": [
            "tf.Tensor(\n",
            "[[2.044133  8.605606  2.7524328]\n",
            " [7.449169  8.96482   5.4136252]], shape=(2, 3), dtype=float32)\n",
            "tf.Tensor(\n",
            "[[2.3985982  0.838114   6.9565954 ]\n",
            " [2.9534018  0.55855393 6.092435  ]], shape=(2, 3), dtype=float32)\n",
            "tf.Tensor(\n",
            "[[3.184303   4.785669   4.6754646 ]\n",
            " [0.18546939 4.510329   9.545688  ]], shape=(2, 3), dtype=float32)\n",
            "tf.Tensor(\n",
            "[[5.4520597 1.3372338 4.523267 ]\n",
            " [1.5582252 9.621073  8.151463 ]], shape=(2, 3), dtype=float32)\n"
          ]
        }
      ]
    },
    {
      "cell_type": "code",
      "source": [
        "#We get these different outputs as the local seed only determines the random generation for that op\n",
        "#If the global seed is not set tf uses a non-deterministic seed source\n",
        "#Which means each local seed will behave differently each time it is run unless a global seed is set"
      ],
      "metadata": {
        "id": "fHl_yTzA4FRs"
      },
      "execution_count": 33,
      "outputs": []
    },
    {
      "cell_type": "code",
      "source": [
        "#Just the global seed set should make it reproducible but if we insert a new random op the sequencing of the stuff changes\n",
        "\n",
        "#This is because we are advancing the random number generators state"
      ],
      "metadata": {
        "id": "kDKhjvZc4Uoq"
      },
      "execution_count": 34,
      "outputs": []
    },
    {
      "cell_type": "code",
      "source": [
        "tensor_to_index = tf.constant([4,3,6,8,3,1])\n",
        "print(tensor_to_index)"
      ],
      "metadata": {
        "colab": {
          "base_uri": "https://localhost:8080/"
        },
        "id": "2ZeZVitl4xIb",
        "outputId": "2f5b1c06-f291-4aca-92ae-52ae8bf597e4"
      },
      "execution_count": 35,
      "outputs": [
        {
          "output_type": "stream",
          "name": "stdout",
          "text": [
            "tf.Tensor([4 3 6 8 3 1], shape=(6,), dtype=int32)\n"
          ]
        }
      ]
    },
    {
      "cell_type": "code",
      "source": [
        "print(tensor_to_index[2:5])"
      ],
      "metadata": {
        "colab": {
          "base_uri": "https://localhost:8080/"
        },
        "id": "ezCuiGSF6Hhv",
        "outputId": "a394036a-c2a3-42c1-a7c5-233057340369"
      },
      "execution_count": 36,
      "outputs": [
        {
          "output_type": "stream",
          "name": "stdout",
          "text": [
            "tf.Tensor([6 8 3], shape=(3,), dtype=int32)\n"
          ]
        }
      ]
    },
    {
      "cell_type": "code",
      "source": [
        "print(tensor_two_d)"
      ],
      "metadata": {
        "colab": {
          "base_uri": "https://localhost:8080/"
        },
        "id": "yR0ndhZc6J5z",
        "outputId": "0388f96f-9c2b-45de-f355-89b93227e251"
      },
      "execution_count": 37,
      "outputs": [
        {
          "output_type": "stream",
          "name": "stdout",
          "text": [
            "tf.Tensor(\n",
            "[[ 2  0 -3]\n",
            " [ 1  2  0]], shape=(2, 3), dtype=int32)\n"
          ]
        }
      ]
    },
    {
      "cell_type": "code",
      "source": [
        "tensor_two_d = tf.constant(\n",
        "    [[1,2,0],\n",
        "     [3,5,-1],\n",
        "     [1,5,6],\n",
        "     [2,3,8]]\n",
        ")"
      ],
      "metadata": {
        "id": "GjZI6k7B7Gds"
      },
      "execution_count": 38,
      "outputs": []
    },
    {
      "cell_type": "code",
      "source": [
        "print(tensor_two_d)"
      ],
      "metadata": {
        "colab": {
          "base_uri": "https://localhost:8080/"
        },
        "id": "DeomHqgY7OW0",
        "outputId": "aef2b2ab-ce3e-47f7-fbca-1de4bf4a02b4"
      },
      "execution_count": 39,
      "outputs": [
        {
          "output_type": "stream",
          "name": "stdout",
          "text": [
            "tf.Tensor(\n",
            "[[ 1  2  0]\n",
            " [ 3  5 -1]\n",
            " [ 1  5  6]\n",
            " [ 2  3  8]], shape=(4, 3), dtype=int32)\n"
          ]
        }
      ]
    },
    {
      "cell_type": "code",
      "source": [
        "print(tensor_two_d[2,1]) # [row, column] if we give these indices we get the value there"
      ],
      "metadata": {
        "colab": {
          "base_uri": "https://localhost:8080/"
        },
        "id": "-5ZCmEBe7nt-",
        "outputId": "794bcc4d-10a7-4b45-d9fe-910d0843978f"
      },
      "execution_count": 40,
      "outputs": [
        {
          "output_type": "stream",
          "name": "stdout",
          "text": [
            "tf.Tensor(5, shape=(), dtype=int32)\n"
          ]
        }
      ]
    },
    {
      "cell_type": "code",
      "source": [
        "#If we want everything from a few rows and a few columns we just give the inputs to the row and column\n",
        "# as a range using the :\n",
        "\n",
        "print(tensor_two_d[0:3, 0:2])"
      ],
      "metadata": {
        "colab": {
          "base_uri": "https://localhost:8080/"
        },
        "id": "dX6BvCjm7srS",
        "outputId": "921bb9a0-bb64-4d7a-d0f3-1f8967da4cd6"
      },
      "execution_count": 41,
      "outputs": [
        {
          "output_type": "stream",
          "name": "stdout",
          "text": [
            "tf.Tensor(\n",
            "[[1 2]\n",
            " [3 5]\n",
            " [1 5]], shape=(3, 2), dtype=int32)\n"
          ]
        }
      ]
    },
    {
      "cell_type": "code",
      "source": [
        "print(tensor_two_d[0:3, 1])"
      ],
      "metadata": {
        "colab": {
          "base_uri": "https://localhost:8080/"
        },
        "id": "eUmXZnLQ786k",
        "outputId": "53602b4f-20a4-4b29-8620-548e966a2ce5"
      },
      "execution_count": 42,
      "outputs": [
        {
          "output_type": "stream",
          "name": "stdout",
          "text": [
            "tf.Tensor([2 5 5], shape=(3,), dtype=int32)\n"
          ]
        }
      ]
    },
    {
      "cell_type": "code",
      "source": [
        "x_abs = tf.constant([-2.25, 3.25])\n",
        "print(tf.abs(x_abs)) #Turns all the negative values into positive values"
      ],
      "metadata": {
        "id": "trHIZ3p_9M-q",
        "colab": {
          "base_uri": "https://localhost:8080/"
        },
        "outputId": "9beccfca-9283-4928-d912-b9805b62be8d"
      },
      "execution_count": 43,
      "outputs": [
        {
          "output_type": "stream",
          "name": "stdout",
          "text": [
            "tf.Tensor([2.25 3.25], shape=(2,), dtype=float32)\n"
          ]
        }
      ]
    },
    {
      "cell_type": "code",
      "source": [
        "#Absolute value of a complex value in a tensor is calculated as root (a^2 + b^2), a + bj, j is i in cs\n",
        "\n",
        "x = tf.constant([-2.25 + 4.75j])\n",
        "print(tf.abs(x))"
      ],
      "metadata": {
        "colab": {
          "base_uri": "https://localhost:8080/"
        },
        "id": "-OxYsLnm8Q9o",
        "outputId": "a1a6f14e-42c5-4fe0-ca80-a9c5c3ab9943"
      },
      "execution_count": 44,
      "outputs": [
        {
          "output_type": "stream",
          "name": "stdout",
          "text": [
            "tf.Tensor([5.25594901], shape=(1,), dtype=float64)\n"
          ]
        }
      ]
    },
    {
      "cell_type": "code",
      "source": [
        "x1 = tf.constant([5,3,6,6,4,6], dtype=tf.int32)\n",
        "x2 = tf.constant([7], dtype=tf.int32)\n",
        "\n",
        "x1+x2\n",
        "\n"
      ],
      "metadata": {
        "id": "VOb9cyJZ8xMd",
        "colab": {
          "base_uri": "https://localhost:8080/"
        },
        "outputId": "4469d18c-8c7a-4442-dc88-ab90f1b975df"
      },
      "execution_count": 45,
      "outputs": [
        {
          "output_type": "execute_result",
          "data": {
            "text/plain": [
              "<tf.Tensor: shape=(6,), dtype=int32, numpy=array([12, 10, 13, 13, 11, 13], dtype=int32)>"
            ]
          },
          "metadata": {},
          "execution_count": 45
        }
      ]
    },
    {
      "cell_type": "markdown",
      "source": [
        "### Basic tensor concepts\n",
        "\n",
        "Rank -- number of dimensions the tensor has, can also be taught of as the length of the shape tensor of the original tensor, len(tensor_name.shape)\n",
        "\n",
        "Axis -- Refers to each dimension"
      ],
      "metadata": {
        "id": "JKEL1JqE_MDF"
      }
    },
    {
      "cell_type": "code",
      "source": [
        "dd = tf.constant([\n",
        "    [1,2,3],\n",
        "    [4,5,6],\n",
        "    [7,8,9]\n",
        "])\n",
        "\n"
      ],
      "metadata": {
        "id": "_nIzMadTDpJ4"
      },
      "execution_count": 46,
      "outputs": []
    },
    {
      "cell_type": "code",
      "source": [
        "#Each element among the first axis is an array"
      ],
      "metadata": {
        "id": "bd7K3IPeDv0N"
      },
      "execution_count": 47,
      "outputs": []
    },
    {
      "cell_type": "code",
      "source": [
        "dd[0]"
      ],
      "metadata": {
        "colab": {
          "base_uri": "https://localhost:8080/"
        },
        "id": "cS_SwNzzDyPM",
        "outputId": "989f4650-7889-45b5-af4f-633158aba49d"
      },
      "execution_count": 48,
      "outputs": [
        {
          "output_type": "execute_result",
          "data": {
            "text/plain": [
              "<tf.Tensor: shape=(3,), dtype=int32, numpy=array([1, 2, 3], dtype=int32)>"
            ]
          },
          "metadata": {},
          "execution_count": 48
        }
      ]
    },
    {
      "cell_type": "code",
      "source": [
        "dd[1]"
      ],
      "metadata": {
        "colab": {
          "base_uri": "https://localhost:8080/"
        },
        "id": "FvXWatrGDy3A",
        "outputId": "b3f61e22-1663-4d8a-eab0-33df256c8a42"
      },
      "execution_count": 49,
      "outputs": [
        {
          "output_type": "execute_result",
          "data": {
            "text/plain": [
              "<tf.Tensor: shape=(3,), dtype=int32, numpy=array([4, 5, 6], dtype=int32)>"
            ]
          },
          "metadata": {},
          "execution_count": 49
        }
      ]
    },
    {
      "cell_type": "code",
      "source": [
        "dd[2]"
      ],
      "metadata": {
        "colab": {
          "base_uri": "https://localhost:8080/"
        },
        "id": "A6jzTPlEDz2b",
        "outputId": "5e68ae9a-8d0f-4c42-cb8a-a494c0e1a8fb"
      },
      "execution_count": 50,
      "outputs": [
        {
          "output_type": "execute_result",
          "data": {
            "text/plain": [
              "<tf.Tensor: shape=(3,), dtype=int32, numpy=array([7, 8, 9], dtype=int32)>"
            ]
          },
          "metadata": {},
          "execution_count": 50
        }
      ]
    },
    {
      "cell_type": "code",
      "source": [
        "#Each element along the second axis is a number"
      ],
      "metadata": {
        "id": "zXljA5ZPD0hb"
      },
      "execution_count": 51,
      "outputs": []
    },
    {
      "cell_type": "code",
      "source": [
        "dd[0][0] #And so on"
      ],
      "metadata": {
        "colab": {
          "base_uri": "https://localhost:8080/"
        },
        "id": "ZWN3PqjrD4pg",
        "outputId": "1f607fba-6655-4a2e-d808-679b1d9522f9"
      },
      "execution_count": 52,
      "outputs": [
        {
          "output_type": "execute_result",
          "data": {
            "text/plain": [
              "<tf.Tensor: shape=(), dtype=int32, numpy=1>"
            ]
          },
          "metadata": {},
          "execution_count": 52
        }
      ]
    },
    {
      "cell_type": "code",
      "source": [
        "#The elements of the last axis in a tensor is always a number."
      ],
      "metadata": {
        "id": "ApYGaLltD552"
      },
      "execution_count": 53,
      "outputs": []
    },
    {
      "cell_type": "code",
      "source": [
        "dd.shape"
      ],
      "metadata": {
        "colab": {
          "base_uri": "https://localhost:8080/"
        },
        "id": "otjyNpdDEI6w",
        "outputId": "f129de1a-90ad-4d3a-8b78-9863c053690c"
      },
      "execution_count": 54,
      "outputs": [
        {
          "output_type": "execute_result",
          "data": {
            "text/plain": [
              "TensorShape([3, 3])"
            ]
          },
          "metadata": {},
          "execution_count": 54
        }
      ]
    },
    {
      "cell_type": "code",
      "source": [
        "y = tf.constant(\n",
        "    [\n",
        "        [\n",
        "            [1,2,3,4],\n",
        "            [5,6,7,8],\n",
        "            [9,10,11,12]\n",
        "        ],\n",
        "        [\n",
        "            [13,12,43,14],\n",
        "            [55,96,47,38],\n",
        "            [99,1,110,1]\n",
        "        ]\n",
        "    ]\n",
        ")\n"
      ],
      "metadata": {
        "id": "hblD83daEJhu"
      },
      "execution_count": 55,
      "outputs": []
    },
    {
      "cell_type": "code",
      "source": [
        "y.shape"
      ],
      "metadata": {
        "colab": {
          "base_uri": "https://localhost:8080/"
        },
        "id": "fN3m6WJeFXdQ",
        "outputId": "4ddf3bb4-c8ea-4c02-d455-b178587075a2"
      },
      "execution_count": 56,
      "outputs": [
        {
          "output_type": "execute_result",
          "data": {
            "text/plain": [
              "TensorShape([2, 3, 4])"
            ]
          },
          "metadata": {},
          "execution_count": 56
        }
      ]
    },
    {
      "cell_type": "code",
      "source": [
        "#In this tensor Axis 0 has size 2\n",
        "# Axis 1 has size 3\n",
        "# Axis 2 has size 4"
      ],
      "metadata": {
        "id": "V5hstPmtFZQa"
      },
      "execution_count": 57,
      "outputs": []
    },
    {
      "cell_type": "code",
      "source": [
        "y"
      ],
      "metadata": {
        "colab": {
          "base_uri": "https://localhost:8080/"
        },
        "id": "YAG60oLuFlmf",
        "outputId": "12bd5846-8a7a-4ef7-b484-5ac9102e990d"
      },
      "execution_count": 58,
      "outputs": [
        {
          "output_type": "execute_result",
          "data": {
            "text/plain": [
              "<tf.Tensor: shape=(2, 3, 4), dtype=int32, numpy=\n",
              "array([[[  1,   2,   3,   4],\n",
              "        [  5,   6,   7,   8],\n",
              "        [  9,  10,  11,  12]],\n",
              "\n",
              "       [[ 13,  12,  43,  14],\n",
              "        [ 55,  96,  47,  38],\n",
              "        [ 99,   1, 110,   1]]], dtype=int32)>"
            ]
          },
          "metadata": {},
          "execution_count": 58
        }
      ]
    },
    {
      "cell_type": "code",
      "source": [
        "y[0]"
      ],
      "metadata": {
        "colab": {
          "base_uri": "https://localhost:8080/"
        },
        "id": "Yc8RuDUDFqNP",
        "outputId": "732a90ca-0943-45a4-84c2-bfa429980997"
      },
      "execution_count": 59,
      "outputs": [
        {
          "output_type": "execute_result",
          "data": {
            "text/plain": [
              "<tf.Tensor: shape=(3, 4), dtype=int32, numpy=\n",
              "array([[ 1,  2,  3,  4],\n",
              "       [ 5,  6,  7,  8],\n",
              "       [ 9, 10, 11, 12]], dtype=int32)>"
            ]
          },
          "metadata": {},
          "execution_count": 59
        }
      ]
    },
    {
      "cell_type": "code",
      "source": [
        "y[:, 1]"
      ],
      "metadata": {
        "colab": {
          "base_uri": "https://localhost:8080/"
        },
        "id": "52ni2NWuF9Bk",
        "outputId": "7f3dd7a2-ba12-4272-b87e-6883f673c209"
      },
      "execution_count": 60,
      "outputs": [
        {
          "output_type": "execute_result",
          "data": {
            "text/plain": [
              "<tf.Tensor: shape=(2, 4), dtype=int32, numpy=\n",
              "array([[ 5,  6,  7,  8],\n",
              "       [55, 96, 47, 38]], dtype=int32)>"
            ]
          },
          "metadata": {},
          "execution_count": 60
        }
      ]
    },
    {
      "cell_type": "code",
      "source": [
        "y[:, :, 2]"
      ],
      "metadata": {
        "colab": {
          "base_uri": "https://localhost:8080/"
        },
        "id": "_zH2vWabGAnw",
        "outputId": "a21b6c81-bb5f-4e18-9417-4def0a250bed"
      },
      "execution_count": 61,
      "outputs": [
        {
          "output_type": "execute_result",
          "data": {
            "text/plain": [
              "<tf.Tensor: shape=(2, 3), dtype=int32, numpy=\n",
              "array([[  3,   7,  11],\n",
              "       [ 43,  47, 110]], dtype=int32)>"
            ]
          },
          "metadata": {},
          "execution_count": 61
        }
      ]
    },
    {
      "cell_type": "code",
      "source": [
        "tf.random.set_seed(42)\n",
        "t = tf.random.normal(\n",
        "    shape = [3,4,2],\n",
        "    mean = 50,\n",
        "    stddev = 5,\n",
        "    seed = 42\n",
        ")"
      ],
      "metadata": {
        "id": "rIxUgGM0GOyd"
      },
      "execution_count": 62,
      "outputs": []
    },
    {
      "cell_type": "code",
      "source": [
        "print(t)"
      ],
      "metadata": {
        "colab": {
          "base_uri": "https://localhost:8080/"
        },
        "id": "8Aqd_WIEHDO1",
        "outputId": "ba441a17-075c-4a1c-eb32-49f52197ef16"
      },
      "execution_count": 63,
      "outputs": [
        {
          "output_type": "stream",
          "name": "stdout",
          "text": [
            "tf.Tensor(\n",
            "[[[56.574387 49.22892 ]\n",
            "  [54.55694  46.00428 ]\n",
            "  [49.456234 51.42184 ]\n",
            "  [53.83081  46.894356]]\n",
            "\n",
            " [[54.98716  51.09796 ]\n",
            "  [44.600666 40.062584]\n",
            "  [57.80185  49.154526]\n",
            "  [43.109756 48.509922]]\n",
            "\n",
            " [[54.205    54.612747]\n",
            "  [47.58104  41.514374]\n",
            "  [50.476826 49.466232]\n",
            "  [41.08036  58.57296 ]]], shape=(3, 4, 2), dtype=float32)\n"
          ]
        }
      ]
    },
    {
      "cell_type": "code",
      "source": [
        "t[0] # Get me the 0th element along axis 0"
      ],
      "metadata": {
        "colab": {
          "base_uri": "https://localhost:8080/"
        },
        "id": "mArMtIELHD6s",
        "outputId": "e070eb69-ead4-42ab-8258-7c8263111fbc"
      },
      "execution_count": 64,
      "outputs": [
        {
          "output_type": "execute_result",
          "data": {
            "text/plain": [
              "<tf.Tensor: shape=(4, 2), dtype=float32, numpy=\n",
              "array([[56.574387, 49.22892 ],\n",
              "       [54.55694 , 46.00428 ],\n",
              "       [49.456234, 51.42184 ],\n",
              "       [53.83081 , 46.894356]], dtype=float32)>"
            ]
          },
          "metadata": {},
          "execution_count": 64
        }
      ]
    },
    {
      "cell_type": "code",
      "source": [
        "t[0][0] #Get me the 0th element along axis 1"
      ],
      "metadata": {
        "colab": {
          "base_uri": "https://localhost:8080/"
        },
        "id": "iwp6KmtaHEyy",
        "outputId": "8edf2d45-09d5-4362-c3c6-e5d99686f6de"
      },
      "execution_count": 65,
      "outputs": [
        {
          "output_type": "execute_result",
          "data": {
            "text/plain": [
              "<tf.Tensor: shape=(2,), dtype=float32, numpy=array([56.574387, 49.22892 ], dtype=float32)>"
            ]
          },
          "metadata": {},
          "execution_count": 65
        }
      ]
    },
    {
      "cell_type": "code",
      "source": [
        "t[0][0][0] #Get me the 0th element along axis 2"
      ],
      "metadata": {
        "colab": {
          "base_uri": "https://localhost:8080/"
        },
        "id": "TkPdF-1UHkDG",
        "outputId": "6b0699b2-e25c-4c38-c157-070822cfe993"
      },
      "execution_count": 66,
      "outputs": [
        {
          "output_type": "execute_result",
          "data": {
            "text/plain": [
              "<tf.Tensor: shape=(), dtype=float32, numpy=56.57438659667969>"
            ]
          },
          "metadata": {},
          "execution_count": 66
        }
      ]
    },
    {
      "cell_type": "code",
      "source": [
        "t[:] #Get me all the elements along axis 0"
      ],
      "metadata": {
        "colab": {
          "base_uri": "https://localhost:8080/"
        },
        "id": "3zMQV65LHn5n",
        "outputId": "b667cc02-dfeb-43a0-eb3c-87ee3edb35ed"
      },
      "execution_count": 67,
      "outputs": [
        {
          "output_type": "execute_result",
          "data": {
            "text/plain": [
              "<tf.Tensor: shape=(3, 4, 2), dtype=float32, numpy=\n",
              "array([[[56.574387, 49.22892 ],\n",
              "        [54.55694 , 46.00428 ],\n",
              "        [49.456234, 51.42184 ],\n",
              "        [53.83081 , 46.894356]],\n",
              "\n",
              "       [[54.98716 , 51.09796 ],\n",
              "        [44.600666, 40.062584],\n",
              "        [57.80185 , 49.154526],\n",
              "        [43.109756, 48.509922]],\n",
              "\n",
              "       [[54.205   , 54.612747],\n",
              "        [47.58104 , 41.514374],\n",
              "        [50.476826, 49.466232],\n",
              "        [41.08036 , 58.57296 ]]], dtype=float32)>"
            ]
          },
          "metadata": {},
          "execution_count": 67
        }
      ]
    },
    {
      "cell_type": "code",
      "source": [
        "t[:, 0] #For all the axis 0 elements get the 0th row"
      ],
      "metadata": {
        "colab": {
          "base_uri": "https://localhost:8080/"
        },
        "id": "xQV2CvY_HrEt",
        "outputId": "34a8e240-5cef-46d1-9f9b-a835ebcf688c"
      },
      "execution_count": 68,
      "outputs": [
        {
          "output_type": "execute_result",
          "data": {
            "text/plain": [
              "<tf.Tensor: shape=(3, 2), dtype=float32, numpy=\n",
              "array([[56.574387, 49.22892 ],\n",
              "       [54.98716 , 51.09796 ],\n",
              "       [54.205   , 54.612747]], dtype=float32)>"
            ]
          },
          "metadata": {},
          "execution_count": 68
        }
      ]
    },
    {
      "cell_type": "code",
      "source": [
        "t[:, :, 1]\n",
        "# For all slices and all rows get me the second column"
      ],
      "metadata": {
        "colab": {
          "base_uri": "https://localhost:8080/"
        },
        "id": "QyQ0i3fQHzDo",
        "outputId": "95a097fd-eee6-4abd-d515-25c48a4de679"
      },
      "execution_count": 69,
      "outputs": [
        {
          "output_type": "execute_result",
          "data": {
            "text/plain": [
              "<tf.Tensor: shape=(3, 4), dtype=float32, numpy=\n",
              "array([[49.22892 , 46.00428 , 51.42184 , 46.894356],\n",
              "       [51.09796 , 40.062584, 49.154526, 48.509922],\n",
              "       [54.612747, 41.514374, 49.466232, 58.57296 ]], dtype=float32)>"
            ]
          },
          "metadata": {},
          "execution_count": 69
        }
      ]
    },
    {
      "cell_type": "code",
      "source": [
        "t.shape"
      ],
      "metadata": {
        "colab": {
          "base_uri": "https://localhost:8080/"
        },
        "id": "cl7tY3G0IOa_",
        "outputId": "dc635de0-97d4-4197-c44b-81e87c46cf91"
      },
      "execution_count": 70,
      "outputs": [
        {
          "output_type": "execute_result",
          "data": {
            "text/plain": [
              "TensorShape([3, 4, 2])"
            ]
          },
          "metadata": {},
          "execution_count": 70
        }
      ]
    },
    {
      "cell_type": "code",
      "source": [
        "print(t)"
      ],
      "metadata": {
        "colab": {
          "base_uri": "https://localhost:8080/"
        },
        "id": "uHk9HPj2H-ey",
        "outputId": "d4c85ba8-5935-40cb-dbfb-8dcbf584647c"
      },
      "execution_count": 71,
      "outputs": [
        {
          "output_type": "stream",
          "name": "stdout",
          "text": [
            "tf.Tensor(\n",
            "[[[56.574387 49.22892 ]\n",
            "  [54.55694  46.00428 ]\n",
            "  [49.456234 51.42184 ]\n",
            "  [53.83081  46.894356]]\n",
            "\n",
            " [[54.98716  51.09796 ]\n",
            "  [44.600666 40.062584]\n",
            "  [57.80185  49.154526]\n",
            "  [43.109756 48.509922]]\n",
            "\n",
            " [[54.205    54.612747]\n",
            "  [47.58104  41.514374]\n",
            "  [50.476826 49.466232]\n",
            "  [41.08036  58.57296 ]]], shape=(3, 4, 2), dtype=float32)\n"
          ]
        }
      ]
    },
    {
      "cell_type": "code",
      "source": [
        "tf.math.argmax(t, axis=0)"
      ],
      "metadata": {
        "colab": {
          "base_uri": "https://localhost:8080/"
        },
        "id": "6yT5xST3JAl0",
        "outputId": "265f71c2-b35f-43e4-b750-4f63b5495f7e"
      },
      "execution_count": 72,
      "outputs": [
        {
          "output_type": "execute_result",
          "data": {
            "text/plain": [
              "<tf.Tensor: shape=(4, 2), dtype=int64, numpy=\n",
              "array([[0, 2],\n",
              "       [0, 0],\n",
              "       [1, 0],\n",
              "       [0, 2]])>"
            ]
          },
          "metadata": {},
          "execution_count": 72
        }
      ]
    },
    {
      "cell_type": "markdown",
      "source": [
        "###Tensorflow functions"
      ],
      "metadata": {
        "id": "tWK44TC-x-GF"
      }
    },
    {
      "cell_type": "code",
      "source": [
        "tensor_three_d = tf.constant([\n",
        "    [\n",
        "        [1,2,0],\n",
        "        [3,5,-1]\n",
        "    ],\n",
        "    [\n",
        "        [10,2,0],\n",
        "        [1,0,2]\n",
        "    ],\n",
        "    [\n",
        "        [5,8,0],\n",
        "        [2,7,0]\n",
        "    ],\n",
        "    [\n",
        "        [2,1,9],\n",
        "        [4, -3, 32]\n",
        "    ]\n",
        "])\n",
        "\n",
        "print(tensor_three_d.shape)\n",
        "print(tf.expand_dims(tensor_three_d, axis = 0).shape)"
      ],
      "metadata": {
        "id": "rUlHXWh1JM8E",
        "colab": {
          "base_uri": "https://localhost:8080/"
        },
        "outputId": "1633c1b5-e8bf-4a94-ecfe-389e74c936c2"
      },
      "execution_count": 73,
      "outputs": [
        {
          "output_type": "stream",
          "name": "stdout",
          "text": [
            "(4, 2, 3)\n",
            "(1, 4, 2, 3)\n"
          ]
        }
      ]
    },
    {
      "cell_type": "code",
      "source": [
        "x = tf.constant([2,3,4,5])\n",
        "print(x.shape)\n",
        "tf.expand_dims(x, axis = 1).shape"
      ],
      "metadata": {
        "colab": {
          "base_uri": "https://localhost:8080/"
        },
        "id": "QY0988zJsUHV",
        "outputId": "3e829efc-013b-4009-f59d-09543d6d5400"
      },
      "execution_count": 74,
      "outputs": [
        {
          "output_type": "stream",
          "name": "stdout",
          "text": [
            "(4,)\n"
          ]
        },
        {
          "output_type": "execute_result",
          "data": {
            "text/plain": [
              "TensorShape([4, 1])"
            ]
          },
          "metadata": {},
          "execution_count": 74
        }
      ]
    },
    {
      "cell_type": "code",
      "source": [
        "print(tf.expand_dims(x, axis = 1))"
      ],
      "metadata": {
        "colab": {
          "base_uri": "https://localhost:8080/"
        },
        "id": "HenDXak_yo-V",
        "outputId": "efaa9767-2d18-45fc-b799-e1cf842eeb1c"
      },
      "execution_count": 75,
      "outputs": [
        {
          "output_type": "stream",
          "name": "stdout",
          "text": [
            "tf.Tensor(\n",
            "[[2]\n",
            " [3]\n",
            " [4]\n",
            " [5]], shape=(4, 1), dtype=int32)\n"
          ]
        }
      ]
    },
    {
      "cell_type": "markdown",
      "source": [
        "The squeeze methods removes the dimension of size 1"
      ],
      "metadata": {
        "id": "voPJMtm5y09j"
      }
    },
    {
      "cell_type": "code",
      "source": [
        "x_expanded = tf.expand_dims(x, axis = 0)\n",
        "x_expanded"
      ],
      "metadata": {
        "colab": {
          "base_uri": "https://localhost:8080/"
        },
        "id": "bAKasYcDzMuL",
        "outputId": "46642312-c283-494c-ab0c-c323ebe703e8"
      },
      "execution_count": 76,
      "outputs": [
        {
          "output_type": "execute_result",
          "data": {
            "text/plain": [
              "<tf.Tensor: shape=(1, 4), dtype=int32, numpy=array([[2, 3, 4, 5]], dtype=int32)>"
            ]
          },
          "metadata": {},
          "execution_count": 76
        }
      ]
    },
    {
      "cell_type": "code",
      "source": [
        "x_squeezed = tf.squeeze(x_expanded)\n",
        "x_squeezed"
      ],
      "metadata": {
        "colab": {
          "base_uri": "https://localhost:8080/"
        },
        "id": "EWfwYEHszTZE",
        "outputId": "befb3287-96e4-4b65-a754-76c8c781ae66"
      },
      "execution_count": 77,
      "outputs": [
        {
          "output_type": "execute_result",
          "data": {
            "text/plain": [
              "<tf.Tensor: shape=(4,), dtype=int32, numpy=array([2, 3, 4, 5], dtype=int32)>"
            ]
          },
          "metadata": {},
          "execution_count": 77
        }
      ]
    },
    {
      "cell_type": "code",
      "source": [
        "tf.squeeze(x_expanded, axis = 1) #Can only squeeze the dimension of size 1"
      ],
      "metadata": {
        "colab": {
          "base_uri": "https://localhost:8080/",
          "height": 304
        },
        "id": "64p6M1Q3zY63",
        "outputId": "a0afcc79-269f-4da2-9573-d6e0e836807b"
      },
      "execution_count": 78,
      "outputs": [
        {
          "output_type": "error",
          "ename": "InvalidArgumentError",
          "evalue": "{{function_node __wrapped__Squeeze_device_/job:localhost/replica:0/task:0/device:CPU:0}} Can not squeeze dim[1], expected a dimension of 1, got 4 [Op:Squeeze] name: ",
          "traceback": [
            "\u001b[0;31m---------------------------------------------------------------------------\u001b[0m",
            "\u001b[0;31mInvalidArgumentError\u001b[0m                      Traceback (most recent call last)",
            "\u001b[0;32m/tmp/ipython-input-78-1722184049.py\u001b[0m in \u001b[0;36m<cell line: 0>\u001b[0;34m()\u001b[0m\n\u001b[0;32m----> 1\u001b[0;31m \u001b[0mtf\u001b[0m\u001b[0;34m.\u001b[0m\u001b[0msqueeze\u001b[0m\u001b[0;34m(\u001b[0m\u001b[0mx_expanded\u001b[0m\u001b[0;34m,\u001b[0m \u001b[0maxis\u001b[0m \u001b[0;34m=\u001b[0m \u001b[0;36m1\u001b[0m\u001b[0;34m)\u001b[0m \u001b[0;31m#Can only squeeze the dimension of size 1\u001b[0m\u001b[0;34m\u001b[0m\u001b[0;34m\u001b[0m\u001b[0m\n\u001b[0m",
            "\u001b[0;32m/usr/local/lib/python3.11/dist-packages/tensorflow/python/ops/weak_tensor_ops.py\u001b[0m in \u001b[0;36mwrapper\u001b[0;34m(*args, **kwargs)\u001b[0m\n\u001b[1;32m     86\u001b[0m   \u001b[0;32mdef\u001b[0m \u001b[0mwrapper\u001b[0m\u001b[0;34m(\u001b[0m\u001b[0;34m*\u001b[0m\u001b[0margs\u001b[0m\u001b[0;34m,\u001b[0m \u001b[0;34m**\u001b[0m\u001b[0mkwargs\u001b[0m\u001b[0;34m)\u001b[0m\u001b[0;34m:\u001b[0m\u001b[0;34m\u001b[0m\u001b[0;34m\u001b[0m\u001b[0m\n\u001b[1;32m     87\u001b[0m     \u001b[0;32mif\u001b[0m \u001b[0;32mnot\u001b[0m \u001b[0mops\u001b[0m\u001b[0;34m.\u001b[0m\u001b[0mis_auto_dtype_conversion_enabled\u001b[0m\u001b[0;34m(\u001b[0m\u001b[0;34m)\u001b[0m\u001b[0;34m:\u001b[0m\u001b[0;34m\u001b[0m\u001b[0;34m\u001b[0m\u001b[0m\n\u001b[0;32m---> 88\u001b[0;31m       \u001b[0;32mreturn\u001b[0m \u001b[0mop\u001b[0m\u001b[0;34m(\u001b[0m\u001b[0;34m*\u001b[0m\u001b[0margs\u001b[0m\u001b[0;34m,\u001b[0m \u001b[0;34m**\u001b[0m\u001b[0mkwargs\u001b[0m\u001b[0;34m)\u001b[0m\u001b[0;34m\u001b[0m\u001b[0;34m\u001b[0m\u001b[0m\n\u001b[0m\u001b[1;32m     89\u001b[0m     \u001b[0mbound_arguments\u001b[0m \u001b[0;34m=\u001b[0m \u001b[0msignature\u001b[0m\u001b[0;34m.\u001b[0m\u001b[0mbind\u001b[0m\u001b[0;34m(\u001b[0m\u001b[0;34m*\u001b[0m\u001b[0margs\u001b[0m\u001b[0;34m,\u001b[0m \u001b[0;34m**\u001b[0m\u001b[0mkwargs\u001b[0m\u001b[0;34m)\u001b[0m\u001b[0;34m\u001b[0m\u001b[0;34m\u001b[0m\u001b[0m\n\u001b[1;32m     90\u001b[0m     \u001b[0mbound_arguments\u001b[0m\u001b[0;34m.\u001b[0m\u001b[0mapply_defaults\u001b[0m\u001b[0;34m(\u001b[0m\u001b[0;34m)\u001b[0m\u001b[0;34m\u001b[0m\u001b[0;34m\u001b[0m\u001b[0m\n",
            "\u001b[0;32m/usr/local/lib/python3.11/dist-packages/tensorflow/python/util/traceback_utils.py\u001b[0m in \u001b[0;36merror_handler\u001b[0;34m(*args, **kwargs)\u001b[0m\n\u001b[1;32m    151\u001b[0m     \u001b[0;32mexcept\u001b[0m \u001b[0mException\u001b[0m \u001b[0;32mas\u001b[0m \u001b[0me\u001b[0m\u001b[0;34m:\u001b[0m\u001b[0;34m\u001b[0m\u001b[0;34m\u001b[0m\u001b[0m\n\u001b[1;32m    152\u001b[0m       \u001b[0mfiltered_tb\u001b[0m \u001b[0;34m=\u001b[0m \u001b[0m_process_traceback_frames\u001b[0m\u001b[0;34m(\u001b[0m\u001b[0me\u001b[0m\u001b[0;34m.\u001b[0m\u001b[0m__traceback__\u001b[0m\u001b[0;34m)\u001b[0m\u001b[0;34m\u001b[0m\u001b[0;34m\u001b[0m\u001b[0m\n\u001b[0;32m--> 153\u001b[0;31m       \u001b[0;32mraise\u001b[0m \u001b[0me\u001b[0m\u001b[0;34m.\u001b[0m\u001b[0mwith_traceback\u001b[0m\u001b[0;34m(\u001b[0m\u001b[0mfiltered_tb\u001b[0m\u001b[0;34m)\u001b[0m \u001b[0;32mfrom\u001b[0m \u001b[0;32mNone\u001b[0m\u001b[0;34m\u001b[0m\u001b[0;34m\u001b[0m\u001b[0m\n\u001b[0m\u001b[1;32m    154\u001b[0m     \u001b[0;32mfinally\u001b[0m\u001b[0;34m:\u001b[0m\u001b[0;34m\u001b[0m\u001b[0;34m\u001b[0m\u001b[0m\n\u001b[1;32m    155\u001b[0m       \u001b[0;32mdel\u001b[0m \u001b[0mfiltered_tb\u001b[0m\u001b[0;34m\u001b[0m\u001b[0;34m\u001b[0m\u001b[0m\n",
            "\u001b[0;32m/usr/local/lib/python3.11/dist-packages/tensorflow/python/framework/ops.py\u001b[0m in \u001b[0;36mraise_from_not_ok_status\u001b[0;34m(e, name)\u001b[0m\n\u001b[1;32m   6000\u001b[0m \u001b[0;32mdef\u001b[0m \u001b[0mraise_from_not_ok_status\u001b[0m\u001b[0;34m(\u001b[0m\u001b[0me\u001b[0m\u001b[0;34m,\u001b[0m \u001b[0mname\u001b[0m\u001b[0;34m)\u001b[0m \u001b[0;34m->\u001b[0m \u001b[0mNoReturn\u001b[0m\u001b[0;34m:\u001b[0m\u001b[0;34m\u001b[0m\u001b[0;34m\u001b[0m\u001b[0m\n\u001b[1;32m   6001\u001b[0m   \u001b[0me\u001b[0m\u001b[0;34m.\u001b[0m\u001b[0mmessage\u001b[0m \u001b[0;34m+=\u001b[0m \u001b[0;34m(\u001b[0m\u001b[0;34m\" name: \"\u001b[0m \u001b[0;34m+\u001b[0m \u001b[0mstr\u001b[0m\u001b[0;34m(\u001b[0m\u001b[0mname\u001b[0m \u001b[0;32mif\u001b[0m \u001b[0mname\u001b[0m \u001b[0;32mis\u001b[0m \u001b[0;32mnot\u001b[0m \u001b[0;32mNone\u001b[0m \u001b[0;32melse\u001b[0m \u001b[0;34m\"\"\u001b[0m\u001b[0;34m)\u001b[0m\u001b[0;34m)\u001b[0m\u001b[0;34m\u001b[0m\u001b[0;34m\u001b[0m\u001b[0m\n\u001b[0;32m-> 6002\u001b[0;31m   \u001b[0;32mraise\u001b[0m \u001b[0mcore\u001b[0m\u001b[0;34m.\u001b[0m\u001b[0m_status_to_exception\u001b[0m\u001b[0;34m(\u001b[0m\u001b[0me\u001b[0m\u001b[0;34m)\u001b[0m \u001b[0;32mfrom\u001b[0m \u001b[0;32mNone\u001b[0m  \u001b[0;31m# pylint: disable=protected-access\u001b[0m\u001b[0;34m\u001b[0m\u001b[0;34m\u001b[0m\u001b[0m\n\u001b[0m\u001b[1;32m   6003\u001b[0m \u001b[0;34m\u001b[0m\u001b[0m\n\u001b[1;32m   6004\u001b[0m \u001b[0;34m\u001b[0m\u001b[0m\n",
            "\u001b[0;31mInvalidArgumentError\u001b[0m: {{function_node __wrapped__Squeeze_device_/job:localhost/replica:0/task:0/device:CPU:0}} Can not squeeze dim[1], expected a dimension of 1, got 4 [Op:Squeeze] name: "
          ]
        }
      ]
    },
    {
      "cell_type": "code",
      "source": [
        "x.shape"
      ],
      "metadata": {
        "colab": {
          "base_uri": "https://localhost:8080/"
        },
        "id": "z3_zxXY3zgSZ",
        "outputId": "5e68fbbb-9276-4314-8091-e7cf9863fba1"
      },
      "execution_count": 79,
      "outputs": [
        {
          "output_type": "execute_result",
          "data": {
            "text/plain": [
              "TensorShape([4])"
            ]
          },
          "metadata": {},
          "execution_count": 79
        }
      ]
    },
    {
      "cell_type": "code",
      "source": [
        "x = tf.constant([[3,5,6,6],\n",
        "                 [1,2,3,4],\n",
        "                 [4,9,7,2]])\n",
        "tf.reshape(x, [1,-1]) #When we put -1 tensflow automatically picks the correct value"
      ],
      "metadata": {
        "colab": {
          "base_uri": "https://localhost:8080/"
        },
        "id": "3JTUQocY0Gvy",
        "outputId": "6857585d-ae37-4a71-e7ee-0401e16fb15b"
      },
      "execution_count": 80,
      "outputs": [
        {
          "output_type": "execute_result",
          "data": {
            "text/plain": [
              "<tf.Tensor: shape=(1, 12), dtype=int32, numpy=array([[3, 5, 6, 6, 1, 2, 3, 4, 4, 9, 7, 2]], dtype=int32)>"
            ]
          },
          "metadata": {},
          "execution_count": 80
        }
      ]
    },
    {
      "cell_type": "code",
      "source": [
        "t1 = tf.constant(\n",
        "    [\n",
        "        [1,2,3],\n",
        "        [4,5,6]\n",
        "    ]\n",
        ")\n",
        "\n",
        "t2 = tf.constant(\n",
        "    [\n",
        "        [7,8,9],\n",
        "        [10,11,12]\n",
        "    ]\n",
        ")\n",
        "\n",
        "tf.concat([t1, t2], 1)"
      ],
      "metadata": {
        "colab": {
          "base_uri": "https://localhost:8080/"
        },
        "id": "skgCzAzG0PV5",
        "outputId": "93544a9f-ceb2-4ddc-f135-424e9945aae1"
      },
      "execution_count": 81,
      "outputs": [
        {
          "output_type": "execute_result",
          "data": {
            "text/plain": [
              "<tf.Tensor: shape=(2, 6), dtype=int32, numpy=\n",
              "array([[ 1,  2,  3,  7,  8,  9],\n",
              "       [ 4,  5,  6, 10, 11, 12]], dtype=int32)>"
            ]
          },
          "metadata": {},
          "execution_count": 81
        }
      ]
    },
    {
      "cell_type": "code",
      "source": [
        "\n",
        "a = tf.constant([99, 999, 999])\n",
        "b= tf.constant([322, 411, 888])\n",
        "c= tf.constant([523, 622, 666])\n",
        "\n",
        "tf.stack([a, b, c], 0)"
      ],
      "metadata": {
        "colab": {
          "base_uri": "https://localhost:8080/"
        },
        "id": "PwhPbpk_1aAo",
        "outputId": "81ac7a08-e92d-4288-e4b8-52b315d3da44"
      },
      "execution_count": 82,
      "outputs": [
        {
          "output_type": "execute_result",
          "data": {
            "text/plain": [
              "<tf.Tensor: shape=(3, 3), dtype=int32, numpy=\n",
              "array([[ 99, 999, 999],\n",
              "       [322, 411, 888],\n",
              "       [523, 622, 666]], dtype=int32)>"
            ]
          },
          "metadata": {},
          "execution_count": 82
        }
      ]
    },
    {
      "cell_type": "code",
      "source": [
        "tf.stack([a, b, c], 1)"
      ],
      "metadata": {
        "colab": {
          "base_uri": "https://localhost:8080/"
        },
        "id": "lIOe8vfs2_8l",
        "outputId": "59d941b5-49fd-4ff4-c606-cef7d8c4913c"
      },
      "execution_count": 83,
      "outputs": [
        {
          "output_type": "execute_result",
          "data": {
            "text/plain": [
              "<tf.Tensor: shape=(3, 3), dtype=int32, numpy=\n",
              "array([[ 99, 322, 523],\n",
              "       [999, 411, 622],\n",
              "       [999, 888, 666]], dtype=int32)>"
            ]
          },
          "metadata": {},
          "execution_count": 83
        }
      ]
    },
    {
      "cell_type": "code",
      "source": [
        "a = tf.constant([[1,2,3], [4,5,6]])\n",
        "b = tf.constant([[7,8,9], [10,11,12]])\n",
        "\n",
        "tf.stack([a, b], axis = 2)\n"
      ],
      "metadata": {
        "colab": {
          "base_uri": "https://localhost:8080/"
        },
        "id": "S2HpMgz-3Isk",
        "outputId": "b5108186-84cb-47a3-ff88-8d455b1de2ac"
      },
      "execution_count": 84,
      "outputs": [
        {
          "output_type": "execute_result",
          "data": {
            "text/plain": [
              "<tf.Tensor: shape=(2, 3, 2), dtype=int32, numpy=\n",
              "array([[[ 1,  7],\n",
              "        [ 2,  8],\n",
              "        [ 3,  9]],\n",
              "\n",
              "       [[ 4, 10],\n",
              "        [ 5, 11],\n",
              "        [ 6, 12]]], dtype=int32)>"
            ]
          },
          "metadata": {},
          "execution_count": 84
        }
      ]
    },
    {
      "cell_type": "markdown",
      "source": [
        "###Practicing axes from chatgpt"
      ],
      "metadata": {
        "id": "mT9XmGiN4J1N"
      }
    },
    {
      "cell_type": "code",
      "source": [
        "x = tf.constant([\n",
        "    [[1, 2, 3],\n",
        "     [4, 5, 6]],\n",
        "\n",
        "    [[7, 8, 9],\n",
        "     [10, 11, 12]]\n",
        "])\n",
        "# Shape: (2, 2, 3)\n",
        "# 2 batches, each batch = 2x3 matrix\n"
      ],
      "metadata": {
        "id": "Yw6MjrejDb7F"
      },
      "execution_count": 85,
      "outputs": []
    },
    {
      "cell_type": "code",
      "source": [
        "tf.math.reduce_sum(x, axis = 0)"
      ],
      "metadata": {
        "colab": {
          "base_uri": "https://localhost:8080/"
        },
        "id": "HrHtkjY_Dd3T",
        "outputId": "4c8a6f37-7b8f-47bd-8778-dd76097b4a5f"
      },
      "execution_count": 86,
      "outputs": [
        {
          "output_type": "execute_result",
          "data": {
            "text/plain": [
              "<tf.Tensor: shape=(2, 3), dtype=int32, numpy=\n",
              "array([[ 8, 10, 12],\n",
              "       [14, 16, 18]], dtype=int32)>"
            ]
          },
          "metadata": {},
          "execution_count": 86
        }
      ]
    },
    {
      "cell_type": "code",
      "source": [
        "x"
      ],
      "metadata": {
        "colab": {
          "base_uri": "https://localhost:8080/"
        },
        "id": "k12CpL6UDgmJ",
        "outputId": "95ff2bd8-659d-40d7-9acf-145e24c0c7c6"
      },
      "execution_count": 87,
      "outputs": [
        {
          "output_type": "execute_result",
          "data": {
            "text/plain": [
              "<tf.Tensor: shape=(2, 2, 3), dtype=int32, numpy=\n",
              "array([[[ 1,  2,  3],\n",
              "        [ 4,  5,  6]],\n",
              "\n",
              "       [[ 7,  8,  9],\n",
              "        [10, 11, 12]]], dtype=int32)>"
            ]
          },
          "metadata": {},
          "execution_count": 87
        }
      ]
    },
    {
      "cell_type": "code",
      "source": [
        "tf.math.reduce_sum(x, axis = 1)"
      ],
      "metadata": {
        "colab": {
          "base_uri": "https://localhost:8080/"
        },
        "id": "PFA0ZI6UDtqN",
        "outputId": "131501b1-3368-4c82-ce90-e6384372c387"
      },
      "execution_count": 88,
      "outputs": [
        {
          "output_type": "execute_result",
          "data": {
            "text/plain": [
              "<tf.Tensor: shape=(2, 3), dtype=int32, numpy=\n",
              "array([[ 5,  7,  9],\n",
              "       [17, 19, 21]], dtype=int32)>"
            ]
          },
          "metadata": {},
          "execution_count": 88
        }
      ]
    },
    {
      "cell_type": "code",
      "source": [
        "tf.math.reduce_mean(x, axis = 2)"
      ],
      "metadata": {
        "colab": {
          "base_uri": "https://localhost:8080/"
        },
        "id": "8qVZQUsZFEgJ",
        "outputId": "919b2f84-7e0c-480b-ac1b-fc0d7fb9d6a8"
      },
      "execution_count": 89,
      "outputs": [
        {
          "output_type": "execute_result",
          "data": {
            "text/plain": [
              "<tf.Tensor: shape=(2, 2), dtype=int32, numpy=\n",
              "array([[ 2,  5],\n",
              "       [ 8, 11]], dtype=int32)>"
            ]
          },
          "metadata": {},
          "execution_count": 89
        }
      ]
    },
    {
      "cell_type": "code",
      "source": [
        "x = tf.constant([\n",
        "    [[1, 2, 3],\n",
        "     [4, 5, 6]],\n",
        "\n",
        "    [[7, 8, 9],\n",
        "     [10, 11, 12]]\n",
        "])\n",
        "\n",
        "a = tf.constant([\n",
        "    [1,2,3],\n",
        "    [4,5,6]\n",
        "])\n",
        "\n",
        "b = tf.constant([\n",
        "    [7,8,9],\n",
        "    [10,11,12]\n",
        "])"
      ],
      "metadata": {
        "id": "VA2nDM0oFXMR"
      },
      "execution_count": 90,
      "outputs": []
    },
    {
      "cell_type": "code",
      "source": [
        "tf.stack([a,b], axis = 2)"
      ],
      "metadata": {
        "colab": {
          "base_uri": "https://localhost:8080/"
        },
        "id": "xhpO7tTvGFLS",
        "outputId": "98906dc0-3653-44be-ffcb-f6572149845e"
      },
      "execution_count": 91,
      "outputs": [
        {
          "output_type": "execute_result",
          "data": {
            "text/plain": [
              "<tf.Tensor: shape=(2, 3, 2), dtype=int32, numpy=\n",
              "array([[[ 1,  7],\n",
              "        [ 2,  8],\n",
              "        [ 3,  9]],\n",
              "\n",
              "       [[ 4, 10],\n",
              "        [ 5, 11],\n",
              "        [ 6, 12]]], dtype=int32)>"
            ]
          },
          "metadata": {},
          "execution_count": 91
        }
      ]
    },
    {
      "cell_type": "code",
      "source": [
        "tf.concat([a,b], axis=0)"
      ],
      "metadata": {
        "colab": {
          "base_uri": "https://localhost:8080/"
        },
        "id": "vykEAkyuGLQy",
        "outputId": "34ad5c7a-d278-4441-cd97-559cd7879c91"
      },
      "execution_count": 92,
      "outputs": [
        {
          "output_type": "execute_result",
          "data": {
            "text/plain": [
              "<tf.Tensor: shape=(4, 3), dtype=int32, numpy=\n",
              "array([[ 1,  2,  3],\n",
              "       [ 4,  5,  6],\n",
              "       [ 7,  8,  9],\n",
              "       [10, 11, 12]], dtype=int32)>"
            ]
          },
          "metadata": {},
          "execution_count": 92
        }
      ]
    },
    {
      "cell_type": "code",
      "source": [
        "t1 = tf.constant(\n",
        "    [\n",
        "        [1,2,3],\n",
        "        [4,5,6],\n",
        "        [5,6,2],\n",
        "        [1,2,1]\n",
        "    ]\n",
        ")\n",
        "\n",
        "t2 = tf.constant(\n",
        "    [\n",
        "        [7,8,9],\n",
        "        [10,11,12],\n",
        "        [0,0,2],\n",
        "        [-1, 5, 2]\n",
        "    ]\n",
        ")\n"
      ],
      "metadata": {
        "id": "HDkDIa5MHNTv"
      },
      "execution_count": 93,
      "outputs": []
    },
    {
      "cell_type": "code",
      "source": [
        "tf.stack([t1, t2, t1], axis = 1)"
      ],
      "metadata": {
        "colab": {
          "base_uri": "https://localhost:8080/"
        },
        "id": "ohamcQzDJKiq",
        "outputId": "a86315f9-db7f-4e69-f7e2-78da4f277c36"
      },
      "execution_count": 94,
      "outputs": [
        {
          "output_type": "execute_result",
          "data": {
            "text/plain": [
              "<tf.Tensor: shape=(4, 3, 3), dtype=int32, numpy=\n",
              "array([[[ 1,  2,  3],\n",
              "        [ 7,  8,  9],\n",
              "        [ 1,  2,  3]],\n",
              "\n",
              "       [[ 4,  5,  6],\n",
              "        [10, 11, 12],\n",
              "        [ 4,  5,  6]],\n",
              "\n",
              "       [[ 5,  6,  2],\n",
              "        [ 0,  0,  2],\n",
              "        [ 5,  6,  2]],\n",
              "\n",
              "       [[ 1,  2,  1],\n",
              "        [-1,  5,  2],\n",
              "        [ 1,  2,  1]]], dtype=int32)>"
            ]
          },
          "metadata": {},
          "execution_count": 94
        }
      ]
    },
    {
      "cell_type": "code",
      "source": [
        "x = tf.constant([[[[2,3,4,5]]]])\n",
        "x.shape"
      ],
      "metadata": {
        "id": "H7KYy_jOJOfW",
        "colab": {
          "base_uri": "https://localhost:8080/"
        },
        "outputId": "1c8b7982-daa0-4b83-f5fc-0a6a682c3388"
      },
      "execution_count": 95,
      "outputs": [
        {
          "output_type": "execute_result",
          "data": {
            "text/plain": [
              "TensorShape([1, 1, 1, 4])"
            ]
          },
          "metadata": {},
          "execution_count": 95
        }
      ]
    },
    {
      "cell_type": "code",
      "source": [
        "tf.squeeze(x).shape"
      ],
      "metadata": {
        "colab": {
          "base_uri": "https://localhost:8080/"
        },
        "id": "1tnC2lYEERqd",
        "outputId": "da620f76-2852-44d5-e495-6ec661a24b4c"
      },
      "execution_count": 96,
      "outputs": [
        {
          "output_type": "execute_result",
          "data": {
            "text/plain": [
              "TensorShape([4])"
            ]
          },
          "metadata": {},
          "execution_count": 96
        }
      ]
    },
    {
      "cell_type": "markdown",
      "source": [
        "Notice how the shape of the tensor changes when we concatenate, the axis along with which we concat gets added up.\n",
        "\n",
        "ex) if t1.shape == (3,2,5)\n",
        "       t2.shape == (3,2,5)\n",
        "\n",
        "When we concat t1 and t2 along axis = 0, the shape will be (6,2,5)\n",
        "\n",
        "When we concat t1 and t2 along axis = 1, the shape will be (3,4,5)\n",
        "\n",
        "When we concat t1 and t2 along axis = 2, the shape will be (3,2,10)\n",
        "\n",
        "\n",
        "Also when we concat, the shape must exactly match up on all dimensions except for the one along which we are concating. The one along which we are concating may or may not match up but the others MUST match up"
      ],
      "metadata": {
        "id": "xRRBiQHpEU0H"
      }
    },
    {
      "cell_type": "markdown",
      "source": [
        "### Stacking\n",
        "\n",
        "In stacking a new axis is created instead of adding up on the axis like concat.\n",
        "\n",
        "If we have two tensors of shape (2,3) and we stack them along axis = 0, we get a new tensor of shape (2,2,3).\n",
        "\n",
        "The shape in the new dimension created depends on the number of tensors we are stacking. In this case we stack two tensors so the shape is (2,2,3)\n",
        "If we stacked t1, t2 and t1 it would've been (3,2,3) assuming the axis = 0"
      ],
      "metadata": {
        "id": "6d7I2CdBJPpf"
      }
    },
    {
      "cell_type": "code",
      "source": [
        "t1.shape"
      ],
      "metadata": {
        "colab": {
          "base_uri": "https://localhost:8080/"
        },
        "id": "iZhDLA2NMqz0",
        "outputId": "3ff343ca-3f38-4027-84c8-f5544f6de12f"
      },
      "execution_count": 100,
      "outputs": [
        {
          "output_type": "execute_result",
          "data": {
            "text/plain": [
              "TensorShape([4, 3])"
            ]
          },
          "metadata": {},
          "execution_count": 100
        }
      ]
    },
    {
      "cell_type": "markdown",
      "source": [
        "It is very easy to predict what the output must be when we figure out what the shape will be and work backwards from that instead of trying to figure out what the output will be directly"
      ],
      "metadata": {
        "id": "7CBCKR9cM5ZM"
      }
    },
    {
      "cell_type": "code",
      "source": [
        "t1 = tf.constant([[1,2,3],\n",
        "                  [4,5,6],\n",
        "                  [7,8,9],\n",
        "                  [10,11,12]])\n",
        "\n",
        "t2 = tf.constant([[13,14,15],\n",
        "                  [16,17,18],\n",
        "                  [19,20,21],\n",
        "                  [22,23,24]])\n",
        "\n",
        "tf.stack([t1, t2], axis = 2)\n",
        "\n",
        "#INTUITION\n",
        "\"\"\"\n",
        "First we look at the shape of both our tensors which is (4,3). Now when we want to stack along axis = 2, we will create a tensor of shape (4,3,2). We get the 2 as we are stacking\n",
        "two tensors.\n",
        "Now we need to stack them, the only logical way to do this is the answer down below\n",
        "\"\"\""
      ],
      "metadata": {
        "colab": {
          "base_uri": "https://localhost:8080/"
        },
        "id": "JpktxJeTK6Rx",
        "outputId": "e018e9ff-6151-4267-9118-f36ad2254084"
      },
      "execution_count": 101,
      "outputs": [
        {
          "output_type": "execute_result",
          "data": {
            "text/plain": [
              "<tf.Tensor: shape=(4, 3, 2), dtype=int32, numpy=\n",
              "array([[[ 1, 13],\n",
              "        [ 2, 14],\n",
              "        [ 3, 15]],\n",
              "\n",
              "       [[ 4, 16],\n",
              "        [ 5, 17],\n",
              "        [ 6, 18]],\n",
              "\n",
              "       [[ 7, 19],\n",
              "        [ 8, 20],\n",
              "        [ 9, 21]],\n",
              "\n",
              "       [[10, 22],\n",
              "        [11, 23],\n",
              "        [12, 24]]], dtype=int32)>"
            ]
          },
          "metadata": {},
          "execution_count": 101
        }
      ]
    },
    {
      "cell_type": "code",
      "source": [
        "t1 = tf.constant([[1,2,3],\n",
        "                  [4,5,6],\n",
        "                  [7,8,9],\n",
        "                  [10,11,12]])\n",
        "\n",
        "t2 = tf.constant([[13,14,15],\n",
        "                  [16,17,18],\n",
        "                  [19,20,21],\n",
        "                  [22,23,24]])\n",
        "\n",
        "tf.stack([t1, t2], axis = 1)"
      ],
      "metadata": {
        "colab": {
          "base_uri": "https://localhost:8080/"
        },
        "id": "F983jPjCNJ3r",
        "outputId": "a9a4655a-e50b-4439-ce00-ff1c98942854"
      },
      "execution_count": 102,
      "outputs": [
        {
          "output_type": "execute_result",
          "data": {
            "text/plain": [
              "<tf.Tensor: shape=(4, 2, 3), dtype=int32, numpy=\n",
              "array([[[ 1,  2,  3],\n",
              "        [13, 14, 15]],\n",
              "\n",
              "       [[ 4,  5,  6],\n",
              "        [16, 17, 18]],\n",
              "\n",
              "       [[ 7,  8,  9],\n",
              "        [19, 20, 21]],\n",
              "\n",
              "       [[10, 11, 12],\n",
              "        [22, 23, 24]]], dtype=int32)>"
            ]
          },
          "metadata": {},
          "execution_count": 102
        }
      ]
    },
    {
      "cell_type": "code",
      "source": [
        "t1 = tf.constant([[1,2,3],\n",
        "                  [4,5,6],\n",
        "                  [7,8,9],\n",
        "                  [10,11,12]])\n",
        "\n",
        "t2 = tf.constant([[13,14,15],\n",
        "                  [16,17,18],\n",
        "                  [19,20,21],\n",
        "                  [22,23,24]])\n",
        "\n",
        "tf.stack([t1, t2], axis = 0)"
      ],
      "metadata": {
        "colab": {
          "base_uri": "https://localhost:8080/"
        },
        "id": "mT62cFJ_OA-8",
        "outputId": "515f908e-caf0-4e00-a447-c3a0b01cc949"
      },
      "execution_count": 103,
      "outputs": [
        {
          "output_type": "execute_result",
          "data": {
            "text/plain": [
              "<tf.Tensor: shape=(2, 4, 3), dtype=int32, numpy=\n",
              "array([[[ 1,  2,  3],\n",
              "        [ 4,  5,  6],\n",
              "        [ 7,  8,  9],\n",
              "        [10, 11, 12]],\n",
              "\n",
              "       [[13, 14, 15],\n",
              "        [16, 17, 18],\n",
              "        [19, 20, 21],\n",
              "        [22, 23, 24]]], dtype=int32)>"
            ]
          },
          "metadata": {},
          "execution_count": 103
        }
      ]
    },
    {
      "cell_type": "code",
      "source": [],
      "metadata": {
        "id": "prNKdEhXOCPg"
      },
      "execution_count": null,
      "outputs": []
    }
  ]
}